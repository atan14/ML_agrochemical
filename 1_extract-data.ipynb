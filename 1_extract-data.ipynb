{
 "cells": [
  {
   "cell_type": "markdown",
   "metadata": {},
   "source": [
    "Importing packages"
   ]
  },
  {
   "cell_type": "code",
   "execution_count": 149,
   "metadata": {},
   "outputs": [],
   "source": [
    "import numpy as np\n",
    "import pandas as pd\n",
    "import os\n",
    "import pubchempy as pcp\n",
    "import cirpy as cir\n",
    "from rdkit import Chem"
   ]
  },
  {
   "cell_type": "markdown",
   "metadata": {},
   "source": [
    "Importing pesticides (conventional chemical) database file into Pandas dataframe\n",
    "(Datafile obtained from [EPA:United States Environmental Protection Agency](https://iaspub.epa.gov/apex/pesticides/f?p=CHEMICALSEARCH:46:::NO:::))"
   ]
  },
  {
   "cell_type": "code",
   "execution_count": 136,
   "metadata": {},
   "outputs": [],
   "source": [
    "csv_path = os.path.join(os.getcwd(), \"pesticides_conventionalchemical.csv\")\n",
    "pest_df = pd.read_csv(csv_path, comment=\"#\")"
   ]
  },
  {
   "cell_type": "markdown",
   "metadata": {},
   "source": [
    "Dropping unnecessary columns"
   ]
  },
  {
   "cell_type": "code",
   "execution_count": 137,
   "metadata": {},
   "outputs": [],
   "source": [
    "pest_df = pest_df.drop(['Image', 'Latest Process', 'PublicParticipation', 'Open forPublic Comments'], 1)"
   ]
  },
  {
   "cell_type": "markdown",
   "metadata": {},
   "source": [
    "Dropping compounds with no CAS registry number or with duplicate CAS registry number."
   ]
  },
  {
   "cell_type": "code",
   "execution_count": 142,
   "metadata": {},
   "outputs": [
    {
     "name": "stdout",
     "output_type": "stream",
     "text": [
      "Shape of dataframe:  (1578, 2)\n"
     ]
    },
    {
     "data": {
      "text/html": [
       "<div>\n",
       "<style scoped>\n",
       "    .dataframe tbody tr th:only-of-type {\n",
       "        vertical-align: middle;\n",
       "    }\n",
       "\n",
       "    .dataframe tbody tr th {\n",
       "        vertical-align: top;\n",
       "    }\n",
       "\n",
       "    .dataframe thead th {\n",
       "        text-align: right;\n",
       "    }\n",
       "</style>\n",
       "<table border=\"1\" class=\"dataframe\">\n",
       "  <thead>\n",
       "    <tr style=\"text-align: right;\">\n",
       "      <th></th>\n",
       "      <th>Chemical Name</th>\n",
       "      <th>CAS Number</th>\n",
       "    </tr>\n",
       "  </thead>\n",
       "  <tbody>\n",
       "    <tr>\n",
       "      <th>0</th>\n",
       "      <td>(Z)-8-Dodecen-1-yl acetate</td>\n",
       "      <td>28079-04-1</td>\n",
       "    </tr>\n",
       "    <tr>\n",
       "      <th>1</th>\n",
       "      <td>(Z)-9-Tetradecenal</td>\n",
       "      <td>53939-27-8</td>\n",
       "    </tr>\n",
       "    <tr>\n",
       "      <th>2</th>\n",
       "      <td>(Z,Z)-3,13-Octadecadien-1-ol acetate</td>\n",
       "      <td>53120-27-7</td>\n",
       "    </tr>\n",
       "    <tr>\n",
       "      <th>3</th>\n",
       "      <td>(Z,Z)-3,13-Octadecadien-1-ol</td>\n",
       "      <td>66410-24-0</td>\n",
       "    </tr>\n",
       "  </tbody>\n",
       "</table>\n",
       "</div>"
      ],
      "text/plain": [
       "                          Chemical Name  CAS Number\n",
       "0            (Z)-8-Dodecen-1-yl acetate  28079-04-1\n",
       "1                    (Z)-9-Tetradecenal  53939-27-8\n",
       "2  (Z,Z)-3,13-Octadecadien-1-ol acetate  53120-27-7\n",
       "3         (Z,Z)-3,13-Octadecadien-1-ol   66410-24-0"
      ]
     },
     "execution_count": 142,
     "metadata": {},
     "output_type": "execute_result"
    }
   ],
   "source": [
    "pest_df = pest_df.dropna().reset_index(drop=True).drop_duplicates(subset=['CAS Number'])\n",
    "print (\"Shape of dataframe: \", pest_df.shape)\n",
    "pest_df.head(4)"
   ]
  },
  {
   "cell_type": "markdown",
   "metadata": {},
   "source": [
    "Identifying compounds by their CAS registry number (using CIRPY package) and add SMILES string to the data"
   ]
  },
  {
   "cell_type": "code",
   "execution_count": 144,
   "metadata": {},
   "outputs": [
    {
     "name": "stdout",
     "output_type": "stream",
     "text": [
      "CPU times: user 22 s, sys: 1.63 s, total: 23.6 s\n",
      "Wall time: 6min 32s\n"
     ]
    }
   ],
   "source": [
    "%%time\n",
    "n = pest_df['CAS Number'].shape[0]\n",
    "smiles = pd.Series(index=np.arange(n))\n",
    "for i in range(n):\n",
    "    smiles[i] = cir.resolve(pest_df['CAS Number'][i], representation='smiles')\n",
    "pest_df['SMILES'] = smiles\n",
    "\n",
    "pest_df.head(3)"
   ]
  },
  {
   "cell_type": "markdown",
   "metadata": {},
   "source": [
    "Remove compounds without a valid SMILES string"
   ]
  },
  {
   "cell_type": "code",
   "execution_count": 146,
   "metadata": {},
   "outputs": [],
   "source": [
    "pest_df = pest_df.dropna().reset_index(drop=True)"
   ]
  },
  {
   "cell_type": "code",
   "execution_count": 164,
   "metadata": {},
   "outputs": [
    {
     "name": "stdout",
     "output_type": "stream",
     "text": [
      "CPU times: user 14.3 ms, sys: 4.73 ms, total: 19.1 ms\n",
      "Wall time: 844 ms\n"
     ]
    }
   ],
   "source": [
    "%%time\n",
    "ls = ['molecular_weight', 'xlogp', 'h_bond_donor_count', \n",
    "     'h_bond_acceptor_count', 'rotatable_bond_count']\n",
    "pcp.get_properties(ls, 'CCC\\C=C/CCCCCCCOC(C)=O', namespace='smiles')"
   ]
  },
  {
   "cell_type": "code",
   "execution_count": 165,
   "metadata": {},
   "outputs": [
    {
     "name": "stdout",
     "output_type": "stream",
     "text": [
      "CPU times: user 15.4 ms, sys: 3.77 ms, total: 19.2 ms\n",
      "Wall time: 515 ms\n"
     ]
    },
    {
     "data": {
      "text/plain": [
       "[{'CID': 5363377,\n",
       "  'HBondAcceptorCount': 2,\n",
       "  'HBondDonorCount': 0,\n",
       "  'MolecularWeight': 226.36,\n",
       "  'RotatableBondCount': 11,\n",
       "  'XLogP': 4.8}]"
      ]
     },
     "execution_count": 165,
     "metadata": {},
     "output_type": "execute_result"
    }
   ],
   "source": [
    "%%time\n",
    "pcp.get_properties(ls, '5363377', namespace='cid' )"
   ]
  },
  {
   "cell_type": "code",
   "execution_count": null,
   "metadata": {},
   "outputs": [],
   "source": []
  }
 ],
 "metadata": {
  "kernelspec": {
   "display_name": "Python 3",
   "language": "python",
   "name": "python3"
  },
  "language_info": {
   "codemirror_mode": {
    "name": "ipython",
    "version": 3
   },
   "file_extension": ".py",
   "mimetype": "text/x-python",
   "name": "python",
   "nbconvert_exporter": "python",
   "pygments_lexer": "ipython3",
   "version": "3.6.4"
  }
 },
 "nbformat": 4,
 "nbformat_minor": 2
}
