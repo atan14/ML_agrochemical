{
 "cells": [
  {
   "cell_type": "markdown",
   "metadata": {},
   "source": [
    "Data is extracted from chembl_24.db (from [ChEMBL database](https://www.ebi.ac.uk/chembl/downloads)). We then parse the data and save data into pickle file for use in deep learning of the structures)"
   ]
  },
  {
   "cell_type": "markdown",
   "metadata": {},
   "source": [
    "Import packages"
   ]
  },
  {
   "cell_type": "code",
   "execution_count": 1,
   "metadata": {},
   "outputs": [],
   "source": [
    "import numpy as np\n",
    "import pandas as pd\n",
    "import os\n",
    "import sqlite3\n",
    "import pickle\n",
    "\n",
    "from random import shuffle"
   ]
  },
  {
   "cell_type": "markdown",
   "metadata": {},
   "source": [
    "Connect database using sqlite3 package"
   ]
  },
  {
   "cell_type": "code",
   "execution_count": 2,
   "metadata": {},
   "outputs": [],
   "source": [
    "db = sqlite3.connect('chembl_24.db')\n",
    "c = db.cursor()"
   ]
  },
  {
   "cell_type": "markdown",
   "metadata": {},
   "source": [
    "Import doc_id from chembl_24.db, then use doc_id to extract molregno (unique internal Chembl compound identifier)"
   ]
  },
  {
   "cell_type": "code",
   "execution_count": 3,
   "metadata": {},
   "outputs": [],
   "source": [
    "files = ['%toxin%', '%fungicidal%', '%nematicidal%', '%herbicidal%', '%insecticidal%']"
   ]
  },
  {
   "cell_type": "code",
   "execution_count": 4,
   "metadata": {},
   "outputs": [
    {
     "name": "stdout",
     "output_type": "stream",
     "text": [
      "toxin : 541388\n",
      "fungicidal : 4678\n",
      "nematicidal : 555\n",
      "herbicidal : 3715\n",
      "insecticidal : 5987\n"
     ]
    }
   ],
   "source": [
    "molregno = dict.fromkeys(files, None)\n",
    "for file in files:\n",
    "    # extract doc_id from assays that contain agrochemical and non-agrochemical keywords\n",
    "    doc_id = c.execute(\"SELECT doc_id FROM assays where description like '%s'\" %file).fetchall()\n",
    "    doc_id = [i[0] for i in doc_id]\n",
    "    \n",
    "    # extract unique compound identifier from doc_id\n",
    "    molregno[file] = c.execute(\"SELECT molregno FROM compound_records WHERE doc_id IN \" + str(tuple(doc_id))).fetchall()\n",
    "    molregno[file] = [i[0] for i in molregno[file]]\n",
    "    print (\"%s\" %file[1:-1], \":\", len(molregno[file]))"
   ]
  },
  {
   "cell_type": "markdown",
   "metadata": {},
   "source": [
    "Dispose data that overlaps "
   ]
  },
  {
   "cell_type": "code",
   "execution_count": 5,
   "metadata": {},
   "outputs": [],
   "source": [
    "for i, file_a in enumerate(files):\n",
    "    for j, file_b in enumerate(files):\n",
    "        if (i >= j):\n",
    "            continue\n",
    "        intersection = list(set(molregno[file_a])&set(molregno[file_b]))\n",
    "        molregno[file_a] = [x for x in molregno[file_a] if x not in intersection]"
   ]
  },
  {
   "cell_type": "markdown",
   "metadata": {},
   "source": [
    "Then, we get canonical smiles string from molregno compound identifier. "
   ]
  },
  {
   "cell_type": "code",
   "execution_count": 6,
   "metadata": {},
   "outputs": [
    {
     "name": "stdout",
     "output_type": "stream",
     "text": [
      "toxin : 493363\n",
      "fungicidal : 3880\n",
      "nematicidal : 400\n",
      "herbicidal : 3338\n",
      "insecticidal : 5167\n"
     ]
    }
   ],
   "source": [
    "smiles = dict.fromkeys(files, None)\n",
    "for file in files:\n",
    "    smiles[file] = c.execute(\"SELECT canonical_smiles FROM compound_structures WHERE molregno IN\" + str(tuple(molregno[file]))).fetchall()\n",
    "    smiles[file] = [i[0] for i in smiles[file]]\n",
    "    print (\"%s\" %file[1:-1], \":\", len(smiles[file]))"
   ]
  },
  {
   "cell_type": "markdown",
   "metadata": {},
   "source": [
    "Only take as many toxin (non-agrochemical) data as the other data added together"
   ]
  },
  {
   "cell_type": "code",
   "execution_count": 7,
   "metadata": {},
   "outputs": [],
   "source": [
    "shuffle(smiles['%toxin%'])\n",
    "smiles['%toxin%'] = smiles[\"%toxin%\"][:15000]"
   ]
  },
  {
   "cell_type": "markdown",
   "metadata": {},
   "source": [
    "Convert smiles string into a long list and then create another list containing their corresponding categorical name"
   ]
  },
  {
   "cell_type": "code",
   "execution_count": 8,
   "metadata": {},
   "outputs": [],
   "source": [
    "canonical_smiles, category = [], []\n",
    "for file in smiles:\n",
    "    canonical_smiles += smiles[file]\n",
    "    category += [file[1:-1]]*len(smiles[file])"
   ]
  },
  {
   "cell_type": "markdown",
   "metadata": {},
   "source": [
    "Stack the two lists together"
   ]
  },
  {
   "cell_type": "code",
   "execution_count": 9,
   "metadata": {},
   "outputs": [],
   "source": [
    "data = np.column_stack((canonical_smiles, category))"
   ]
  },
  {
   "cell_type": "markdown",
   "metadata": {},
   "source": [
    "Convert data into pandas dataframe"
   ]
  },
  {
   "cell_type": "code",
   "execution_count": 10,
   "metadata": {},
   "outputs": [],
   "source": [
    "data = pd.DataFrame(data, columns=['smiles', 'category'])"
   ]
  },
  {
   "cell_type": "markdown",
   "metadata": {},
   "source": [
    "Save data as pickle file"
   ]
  },
  {
   "cell_type": "code",
   "execution_count": 11,
   "metadata": {},
   "outputs": [],
   "source": [
    "data = data.to_pickle(\"./data.pkl\")"
   ]
  },
  {
   "cell_type": "code",
   "execution_count": null,
   "metadata": {},
   "outputs": [],
   "source": []
  }
 ],
 "metadata": {
  "kernelspec": {
   "display_name": "Python 3",
   "language": "python",
   "name": "python3"
  },
  "language_info": {
   "codemirror_mode": {
    "name": "ipython",
    "version": 3
   },
   "file_extension": ".py",
   "mimetype": "text/x-python",
   "name": "python",
   "nbconvert_exporter": "python",
   "pygments_lexer": "ipython3",
   "version": "3.6.4"
  }
 },
 "nbformat": 4,
 "nbformat_minor": 2
}
