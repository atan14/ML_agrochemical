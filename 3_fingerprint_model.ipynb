{
 "cells": [
  {
   "cell_type": "markdown",
   "metadata": {},
   "source": [
    "Build chemical descriptors/molecular representation (e.g. ECFP, CoulombMatrix, MolecularGraphs etc) as input into deep learning network"
   ]
  },
  {
   "cell_type": "code",
   "execution_count": 1,
   "metadata": {},
   "outputs": [
    {
     "name": "stderr",
     "output_type": "stream",
     "text": [
      "/Users/AikRui/anaconda3/lib/python3.6/site-packages/h5py/__init__.py:36: FutureWarning: Conversion of the second argument of issubdtype from `float` to `np.floating` is deprecated. In future, it will be treated as `np.float64 == np.dtype(float).type`.\n",
      "  from ._conv import register_converters as _register_converters\n",
      "Using TensorFlow backend.\n"
     ]
    }
   ],
   "source": [
    "import numpy as np\n",
    "import pandas as pd\n",
    "import deepchem as dc\n",
    "import os\n",
    "\n",
    "from rdkit.Chem.Fingerprints import FingerprintMols\n",
    "\n",
    "from sklearn.preprocessing import StandardScaler\n",
    "from sklearn.model_selection import train_test_split\n",
    "from sklearn.ensemble import RandomForestClassifier\n",
    "\n",
    "from keras.models import Sequential\n",
    "from keras.layers import Dense, Activation\n",
    "from keras.optimizers import SGD\n",
    "from keras import regularizers"
   ]
  },
  {
   "cell_type": "markdown",
   "metadata": {},
   "source": [
    "Import compound data"
   ]
  },
  {
   "cell_type": "code",
   "execution_count": 2,
   "metadata": {},
   "outputs": [
    {
     "name": "stdout",
     "output_type": "stream",
     "text": [
      "(28263, 19)\n"
     ]
    },
    {
     "data": {
      "text/html": [
       "<div>\n",
       "<style scoped>\n",
       "    .dataframe tbody tr th:only-of-type {\n",
       "        vertical-align: middle;\n",
       "    }\n",
       "\n",
       "    .dataframe tbody tr th {\n",
       "        vertical-align: top;\n",
       "    }\n",
       "\n",
       "    .dataframe thead th {\n",
       "        text-align: right;\n",
       "    }\n",
       "</style>\n",
       "<table border=\"1\" class=\"dataframe\">\n",
       "  <thead>\n",
       "    <tr style=\"text-align: right;\">\n",
       "      <th></th>\n",
       "      <th>smiles</th>\n",
       "      <th>category</th>\n",
       "      <th>mw_freebase</th>\n",
       "      <th>alogp</th>\n",
       "      <th>hba</th>\n",
       "      <th>hbd</th>\n",
       "      <th>psa</th>\n",
       "      <th>rtb</th>\n",
       "      <th>acd_logp</th>\n",
       "      <th>acd_logd</th>\n",
       "      <th>full_mwt</th>\n",
       "      <th>aromatic_rings</th>\n",
       "      <th>heavy_atoms</th>\n",
       "      <th>qed_weighted</th>\n",
       "      <th>mw_monoisotopic</th>\n",
       "      <th>hba_lipinski</th>\n",
       "      <th>hbd_lipinski</th>\n",
       "      <th>mol</th>\n",
       "      <th>agrochemical</th>\n",
       "    </tr>\n",
       "  </thead>\n",
       "  <tbody>\n",
       "    <tr>\n",
       "      <th>0</th>\n",
       "      <td>Cl.O=C(NCc1ccncc1)[C@@H]2CCCN2C(=O)[C@@H]3CCCN3</td>\n",
       "      <td>toxin</td>\n",
       "      <td>302.38</td>\n",
       "      <td>0.44</td>\n",
       "      <td>4</td>\n",
       "      <td>2</td>\n",
       "      <td>74.33</td>\n",
       "      <td>4</td>\n",
       "      <td>1.04</td>\n",
       "      <td>-0.77</td>\n",
       "      <td>338.84</td>\n",
       "      <td>1</td>\n",
       "      <td>22</td>\n",
       "      <td>0.85</td>\n",
       "      <td>302.174</td>\n",
       "      <td>6</td>\n",
       "      <td>2</td>\n",
       "      <td>&lt;rdkit.Chem.rdchem.Mol object at 0x124f75fb8&gt;</td>\n",
       "      <td>0</td>\n",
       "    </tr>\n",
       "  </tbody>\n",
       "</table>\n",
       "</div>"
      ],
      "text/plain": [
       "                                            smiles category mw_freebase alogp  \\\n",
       "0  Cl.O=C(NCc1ccncc1)[C@@H]2CCCN2C(=O)[C@@H]3CCCN3    toxin      302.38  0.44   \n",
       "\n",
       "  hba hbd    psa rtb acd_logp acd_logd full_mwt aromatic_rings heavy_atoms  \\\n",
       "0   4   2  74.33   4     1.04    -0.77   338.84              1          22   \n",
       "\n",
       "  qed_weighted mw_monoisotopic hba_lipinski hbd_lipinski  \\\n",
       "0         0.85         302.174            6            2   \n",
       "\n",
       "                                             mol  agrochemical  \n",
       "0  <rdkit.Chem.rdchem.Mol object at 0x124f75fb8>             0  "
      ]
     },
     "execution_count": 2,
     "metadata": {},
     "output_type": "execute_result"
    }
   ],
   "source": [
    "data = pd.read_pickle(os.path.join(os.getcwd(), 'data.pkl'))\n",
    "print (data.shape)\n",
    "data.head(1)"
   ]
  },
  {
   "cell_type": "markdown",
   "metadata": {},
   "source": [
    "Add Fingerprint descriptor using RDKIT"
   ]
  },
  {
   "cell_type": "code",
   "execution_count": 3,
   "metadata": {},
   "outputs": [],
   "source": [
    "def fingerprint(mol):\n",
    "    return np.ndarray.flatten(np.array(FingerprintMols.FingerprintMol(mol)))"
   ]
  },
  {
   "cell_type": "code",
   "execution_count": 4,
   "metadata": {},
   "outputs": [],
   "source": [
    "data['fingerprint'] = data['mol'].apply(fingerprint)"
   ]
  },
  {
   "cell_type": "markdown",
   "metadata": {},
   "source": [
    "Assign feature (X) and agrochemical classifier (Y)"
   ]
  },
  {
   "cell_type": "code",
   "execution_count": 5,
   "metadata": {},
   "outputs": [],
   "source": [
    "X = data['fingerprint']\n",
    "Y = data['agrochemical']"
   ]
  },
  {
   "cell_type": "markdown",
   "metadata": {},
   "source": [
    "Pad molecular fingerprint with zeros to make them all into same size for conversion into numpy array later\n",
    "\n",
    "__QUESTION: CAN WE DO PADDING ON MOLECULAR FINGERPRINT? DOES IT CHANGE THE STRUCTURE?\"__"
   ]
  },
  {
   "cell_type": "code",
   "execution_count": 6,
   "metadata": {},
   "outputs": [],
   "source": [
    "def molecular_fingerprint_padding(x):\n",
    "    result = np.zeros((2048,))\n",
    "    result[:x.shape[0]] = x\n",
    "    return result\n",
    "X = X.apply(molecular_fingerprint_padding)"
   ]
  },
  {
   "cell_type": "markdown",
   "metadata": {},
   "source": [
    "Stack X into one numpy array"
   ]
  },
  {
   "cell_type": "code",
   "execution_count": 7,
   "metadata": {},
   "outputs": [
    {
     "data": {
      "text/plain": [
       "(28263, 2048)"
      ]
     },
     "execution_count": 7,
     "metadata": {},
     "output_type": "execute_result"
    }
   ],
   "source": [
    "X = np.stack(X)\n",
    "X.shape"
   ]
  },
  {
   "cell_type": "markdown",
   "metadata": {},
   "source": [
    "Standard scaling"
   ]
  },
  {
   "cell_type": "code",
   "execution_count": 8,
   "metadata": {},
   "outputs": [],
   "source": [
    "st = StandardScaler()\n",
    "X = st.fit_transform(X)"
   ]
  },
  {
   "cell_type": "markdown",
   "metadata": {},
   "source": [
    "Split into training set and testing set"
   ]
  },
  {
   "cell_type": "code",
   "execution_count": 9,
   "metadata": {},
   "outputs": [],
   "source": [
    "x_train, x_test, y_train, y_test = train_test_split(X, Y, test_size=0.2, random_state=0)"
   ]
  },
  {
   "cell_type": "markdown",
   "metadata": {},
   "source": [
    "Build models (*Maybe we can try compare using dense neural network and random forest?*)\n",
    "\n",
    "1) Simple sequential neural network"
   ]
  },
  {
   "cell_type": "code",
   "execution_count": 10,
   "metadata": {},
   "outputs": [],
   "source": [
    "def build_simple_model():\n",
    "    model = Sequential()\n",
    "    model.add(Dense(64, input_dim=2048, activation='softmax', kernel_regularizer=regularizers.l2(0.)))\n",
    "    model.add(Dense(1, input_dim=64, activation='linear'))\n",
    "    \n",
    "    # Compile model\n",
    "    model.compile(loss='binary_crossentropy', optimizer='adam', metrics=['accuracy'])\n",
    "    \n",
    "    return model\n",
    "\n",
    "model = build_simple_model()"
   ]
  },
  {
   "cell_type": "code",
   "execution_count": 11,
   "metadata": {},
   "outputs": [
    {
     "name": "stderr",
     "output_type": "stream",
     "text": [
      "/Users/AikRui/anaconda3/lib/python3.6/site-packages/keras/models.py:981: UserWarning: The `nb_epoch` argument in `fit` has been renamed `epochs`.\n",
      "  warnings.warn('The `nb_epoch` argument in `fit` '\n"
     ]
    },
    {
     "name": "stdout",
     "output_type": "stream",
     "text": [
      "Epoch 1/25\n",
      "22610/22610 [==============================] - 3s 141us/step - loss: 1.0592 - acc: 0.6460\n",
      "Epoch 2/25\n",
      "22610/22610 [==============================] - 3s 128us/step - loss: 0.3722 - acc: 0.8393\n",
      "Epoch 3/25\n",
      "22610/22610 [==============================] - 3s 129us/step - loss: 0.2922 - acc: 0.8871\n",
      "Epoch 4/25\n",
      "22610/22610 [==============================] - 3s 129us/step - loss: 0.2313 - acc: 0.9117\n",
      "Epoch 5/25\n",
      "22610/22610 [==============================] - 3s 131us/step - loss: 0.2078 - acc: 0.9207\n",
      "Epoch 6/25\n",
      "22610/22610 [==============================] - 3s 131us/step - loss: 0.1859 - acc: 0.9318\n",
      "Epoch 7/25\n",
      "22610/22610 [==============================] - 3s 131us/step - loss: 0.1731 - acc: 0.9361\n",
      "Epoch 8/25\n",
      "22610/22610 [==============================] - 3s 134us/step - loss: 0.1546 - acc: 0.9486\n",
      "Epoch 9/25\n",
      "22610/22610 [==============================] - 3s 135us/step - loss: 0.1918 - acc: 0.9459\n",
      "Epoch 10/25\n",
      "22610/22610 [==============================] - 3s 134us/step - loss: 0.1766 - acc: 0.9488\n",
      "Epoch 11/25\n",
      "22610/22610 [==============================] - 3s 132us/step - loss: 0.1805 - acc: 0.9476\n",
      "Epoch 12/25\n",
      "22610/22610 [==============================] - 3s 133us/step - loss: 0.1692 - acc: 0.9515\n",
      "Epoch 13/25\n",
      "22610/22610 [==============================] - 3s 131us/step - loss: 0.1619 - acc: 0.9564\n",
      "Epoch 14/25\n",
      "22610/22610 [==============================] - 3s 132us/step - loss: 0.1701 - acc: 0.9558\n",
      "Epoch 15/25\n",
      "22610/22610 [==============================] - 3s 132us/step - loss: 0.1757 - acc: 0.9575\n",
      "Epoch 16/25\n",
      "22610/22610 [==============================] - 3s 132us/step - loss: 0.1969 - acc: 0.9532\n",
      "Epoch 17/25\n",
      "22610/22610 [==============================] - 3s 133us/step - loss: 0.1808 - acc: 0.9545\n",
      "Epoch 18/25\n",
      "22610/22610 [==============================] - 3s 143us/step - loss: 0.1648 - acc: 0.9582\n",
      "Epoch 19/25\n",
      "22610/22610 [==============================] - 3s 136us/step - loss: 0.1546 - acc: 0.9584\n",
      "Epoch 20/25\n",
      "22610/22610 [==============================] - 3s 135us/step - loss: 0.1534 - acc: 0.9612\n",
      "Epoch 21/25\n",
      "22610/22610 [==============================] - 3s 149us/step - loss: 0.1657 - acc: 0.9602\n",
      "Epoch 22/25\n",
      "22610/22610 [==============================] - 3s 132us/step - loss: 0.1785 - acc: 0.9596\n",
      "Epoch 23/25\n",
      "22610/22610 [==============================] - 3s 140us/step - loss: 0.1726 - acc: 0.9607\n",
      "Epoch 24/25\n",
      "22610/22610 [==============================] - 3s 137us/step - loss: 0.1879 - acc: 0.9614\n",
      "Epoch 25/25\n",
      "22610/22610 [==============================] - 3s 140us/step - loss: 0.1693 - acc: 0.9631\n"
     ]
    }
   ],
   "source": [
    "history = model.fit(x_train, y_train, nb_epoch=25, batch_size=32)"
   ]
  },
  {
   "cell_type": "code",
   "execution_count": 12,
   "metadata": {},
   "outputs": [
    {
     "name": "stdout",
     "output_type": "stream",
     "text": [
      "5653/5653 [==============================] - 0s 54us/step\n",
      "Test score: 0.4848937130113545\n",
      "Test accuracy: 0.9060675747917961\n"
     ]
    }
   ],
   "source": [
    "score, acc = model.evaluate(x_test, y_test, batch_size=32)\n",
    "\n",
    "print (\"Test score:\", score)\n",
    "print (\"Test accuracy:\", acc)"
   ]
  },
  {
   "cell_type": "markdown",
   "metadata": {},
   "source": [
    "2) Use random forest model"
   ]
  },
  {
   "cell_type": "code",
   "execution_count": 13,
   "metadata": {},
   "outputs": [],
   "source": [
    "rfc = RandomForestClassifier(n_estimators=200, max_depth=2, random_state=0, n_jobs=-1)"
   ]
  },
  {
   "cell_type": "code",
   "execution_count": 14,
   "metadata": {},
   "outputs": [
    {
     "data": {
      "text/plain": [
       "RandomForestClassifier(bootstrap=True, class_weight=None, criterion='gini',\n",
       "            max_depth=2, max_features='auto', max_leaf_nodes=None,\n",
       "            min_impurity_decrease=0.0, min_impurity_split=None,\n",
       "            min_samples_leaf=1, min_samples_split=2,\n",
       "            min_weight_fraction_leaf=0.0, n_estimators=200, n_jobs=-1,\n",
       "            oob_score=False, random_state=0, verbose=0, warm_start=False)"
      ]
     },
     "execution_count": 14,
     "metadata": {},
     "output_type": "execute_result"
    }
   ],
   "source": [
    "rfc.fit(x_train, y_train)"
   ]
  },
  {
   "cell_type": "code",
   "execution_count": 15,
   "metadata": {},
   "outputs": [
    {
     "data": {
      "text/plain": [
       "0.654342826817619"
      ]
     },
     "execution_count": 15,
     "metadata": {},
     "output_type": "execute_result"
    }
   ],
   "source": [
    "rfc.score(x_test, y_test)"
   ]
  },
  {
   "cell_type": "code",
   "execution_count": null,
   "metadata": {},
   "outputs": [],
   "source": []
  }
 ],
 "metadata": {
  "kernelspec": {
   "display_name": "Python 3",
   "language": "python",
   "name": "python3"
  },
  "language_info": {
   "codemirror_mode": {
    "name": "ipython",
    "version": 3
   },
   "file_extension": ".py",
   "mimetype": "text/x-python",
   "name": "python",
   "nbconvert_exporter": "python",
   "pygments_lexer": "ipython3",
   "version": "3.6.6"
  }
 },
 "nbformat": 4,
 "nbformat_minor": 2
}
