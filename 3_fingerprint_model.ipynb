{
 "cells": [
  {
   "cell_type": "markdown",
   "metadata": {},
   "source": [
    "Build chemical descriptors/molecular representation (e.g. ECFP, CoulombMatrix, MolecularGraphs etc) as input into deep learning network"
   ]
  },
  {
   "cell_type": "code",
   "execution_count": 1,
   "metadata": {},
   "outputs": [
    {
     "name": "stderr",
     "output_type": "stream",
     "text": [
      "/Users/AikRui/anaconda3/lib/python3.6/site-packages/h5py/__init__.py:36: FutureWarning: Conversion of the second argument of issubdtype from `float` to `np.floating` is deprecated. In future, it will be treated as `np.float64 == np.dtype(float).type`.\n",
      "  from ._conv import register_converters as _register_converters\n",
      "Using TensorFlow backend.\n"
     ]
    }
   ],
   "source": [
    "import numpy as np\n",
    "import pandas as pd\n",
    "import deepchem as dc\n",
    "import os\n",
    "\n",
    "from rdkit.Chem.Fingerprints import FingerprintMols\n",
    "\n",
    "from sklearn.preprocessing import StandardScaler\n",
    "from sklearn.model_selection import train_test_split\n",
    "from sklearn.ensemble import RandomForestClassifier\n",
    "\n",
    "from keras.models import Sequential\n",
    "from keras.layers import Dense, Activation\n",
    "from keras.optimizers import SGD\n",
    "from keras import regularizers"
   ]
  },
  {
   "cell_type": "markdown",
   "metadata": {},
   "source": [
    "Import compound data"
   ]
  },
  {
   "cell_type": "code",
   "execution_count": 2,
   "metadata": {},
   "outputs": [
    {
     "name": "stdout",
     "output_type": "stream",
     "text": [
      "(28263, 19)\n"
     ]
    },
    {
     "data": {
      "text/html": [
       "<div>\n",
       "<style scoped>\n",
       "    .dataframe tbody tr th:only-of-type {\n",
       "        vertical-align: middle;\n",
       "    }\n",
       "\n",
       "    .dataframe tbody tr th {\n",
       "        vertical-align: top;\n",
       "    }\n",
       "\n",
       "    .dataframe thead th {\n",
       "        text-align: right;\n",
       "    }\n",
       "</style>\n",
       "<table border=\"1\" class=\"dataframe\">\n",
       "  <thead>\n",
       "    <tr style=\"text-align: right;\">\n",
       "      <th></th>\n",
       "      <th>smiles</th>\n",
       "      <th>category</th>\n",
       "      <th>mw_freebase</th>\n",
       "      <th>alogp</th>\n",
       "      <th>hba</th>\n",
       "      <th>hbd</th>\n",
       "      <th>psa</th>\n",
       "      <th>rtb</th>\n",
       "      <th>acd_logp</th>\n",
       "      <th>acd_logd</th>\n",
       "      <th>full_mwt</th>\n",
       "      <th>aromatic_rings</th>\n",
       "      <th>heavy_atoms</th>\n",
       "      <th>qed_weighted</th>\n",
       "      <th>mw_monoisotopic</th>\n",
       "      <th>hba_lipinski</th>\n",
       "      <th>hbd_lipinski</th>\n",
       "      <th>mol</th>\n",
       "      <th>agrochemical</th>\n",
       "    </tr>\n",
       "  </thead>\n",
       "  <tbody>\n",
       "    <tr>\n",
       "      <th>0</th>\n",
       "      <td>Cl.O=C(NCc1ccncc1)[C@@H]2CCCN2C(=O)[C@@H]3CCCN3</td>\n",
       "      <td>toxin</td>\n",
       "      <td>302.38</td>\n",
       "      <td>0.44</td>\n",
       "      <td>4</td>\n",
       "      <td>2</td>\n",
       "      <td>74.33</td>\n",
       "      <td>4</td>\n",
       "      <td>1.04</td>\n",
       "      <td>-0.77</td>\n",
       "      <td>338.84</td>\n",
       "      <td>1</td>\n",
       "      <td>22</td>\n",
       "      <td>0.85</td>\n",
       "      <td>302.174</td>\n",
       "      <td>6</td>\n",
       "      <td>2</td>\n",
       "      <td>&lt;rdkit.Chem.rdchem.Mol object at 0x12bc10fb8&gt;</td>\n",
       "      <td>0</td>\n",
       "    </tr>\n",
       "  </tbody>\n",
       "</table>\n",
       "</div>"
      ],
      "text/plain": [
       "                                            smiles category mw_freebase alogp  \\\n",
       "0  Cl.O=C(NCc1ccncc1)[C@@H]2CCCN2C(=O)[C@@H]3CCCN3    toxin      302.38  0.44   \n",
       "\n",
       "  hba hbd    psa rtb acd_logp acd_logd full_mwt aromatic_rings heavy_atoms  \\\n",
       "0   4   2  74.33   4     1.04    -0.77   338.84              1          22   \n",
       "\n",
       "  qed_weighted mw_monoisotopic hba_lipinski hbd_lipinski  \\\n",
       "0         0.85         302.174            6            2   \n",
       "\n",
       "                                             mol  agrochemical  \n",
       "0  <rdkit.Chem.rdchem.Mol object at 0x12bc10fb8>             0  "
      ]
     },
     "execution_count": 2,
     "metadata": {},
     "output_type": "execute_result"
    }
   ],
   "source": [
    "data = pd.read_pickle(os.path.join(os.getcwd(), 'data.pkl'))\n",
    "print (data.shape)\n",
    "data.head(1)"
   ]
  },
  {
   "cell_type": "markdown",
   "metadata": {},
   "source": [
    "Add Fingerprint descriptor using RDKIT"
   ]
  },
  {
   "cell_type": "code",
   "execution_count": 3,
   "metadata": {},
   "outputs": [],
   "source": [
    "def fingerprint(mol):\n",
    "    return np.ndarray.flatten(np.array(FingerprintMols.FingerprintMol(mol)))"
   ]
  },
  {
   "cell_type": "code",
   "execution_count": 4,
   "metadata": {},
   "outputs": [],
   "source": [
    "data['fingerprint'] = data['mol'].apply(fingerprint)"
   ]
  },
  {
   "cell_type": "markdown",
   "metadata": {},
   "source": [
    "Assign feature (X) and agrochemical classifier (Y)"
   ]
  },
  {
   "cell_type": "code",
   "execution_count": 5,
   "metadata": {},
   "outputs": [],
   "source": [
    "X = data['fingerprint']\n",
    "Y = data['agrochemical']"
   ]
  },
  {
   "cell_type": "markdown",
   "metadata": {},
   "source": [
    "Pad molecular fingerprint with zeros to make them all into same size for conversion into numpy array later\n",
    "\n",
    "__QUESTION: CAN WE DO PADDING ON MOLECULAR FINGERPRINT? DOES IT CHANGE THE STRUCTURE?\"__"
   ]
  },
  {
   "cell_type": "code",
   "execution_count": 6,
   "metadata": {},
   "outputs": [],
   "source": [
    "def molecular_fingerprint_padding(x):\n",
    "    result = np.zeros((2048,))\n",
    "    result[:x.shape[0]] = x\n",
    "    return result\n",
    "X = X.apply(molecular_fingerprint_padding)"
   ]
  },
  {
   "cell_type": "markdown",
   "metadata": {},
   "source": [
    "Stack X into one numpy array"
   ]
  },
  {
   "cell_type": "code",
   "execution_count": 7,
   "metadata": {},
   "outputs": [
    {
     "data": {
      "text/plain": [
       "(28263, 2048)"
      ]
     },
     "execution_count": 7,
     "metadata": {},
     "output_type": "execute_result"
    }
   ],
   "source": [
    "X = np.stack(X)\n",
    "X.shape"
   ]
  },
  {
   "cell_type": "markdown",
   "metadata": {},
   "source": [
    "Convert Y into numpy array"
   ]
  },
  {
   "cell_type": "code",
   "execution_count": 8,
   "metadata": {},
   "outputs": [
    {
     "data": {
      "text/plain": [
       "(28263,)"
      ]
     },
     "execution_count": 8,
     "metadata": {},
     "output_type": "execute_result"
    }
   ],
   "source": [
    "Y = np.ndarray.flatten(np.array(Y))\n",
    "Y.shape"
   ]
  },
  {
   "cell_type": "markdown",
   "metadata": {},
   "source": [
    "Standard scaling"
   ]
  },
  {
   "cell_type": "code",
   "execution_count": 9,
   "metadata": {},
   "outputs": [],
   "source": [
    "st = StandardScaler()\n",
    "X = st.fit_transform(X)"
   ]
  },
  {
   "cell_type": "markdown",
   "metadata": {},
   "source": [
    "Split into training set and testing set"
   ]
  },
  {
   "cell_type": "code",
   "execution_count": 10,
   "metadata": {},
   "outputs": [],
   "source": [
    "x_train, x_test, y_train, y_test = train_test_split(X, Y, test_size=0.2, random_state=0)"
   ]
  },
  {
   "cell_type": "markdown",
   "metadata": {},
   "source": [
    "Define metrics for classification"
   ]
  },
  {
   "cell_type": "code",
   "execution_count": 14,
   "metadata": {},
   "outputs": [],
   "source": [
    "def classification_metrics(y_true, y_pred):\n",
    "    if (y_true.shape != y_pred.shape):\n",
    "        print (\"Shapes of two arrays do not match.\")\n",
    "        return \n",
    "    tp, fp, tn, fn = 0, 0, 0, 0\n",
    "    total = y_true.shape[0]\n",
    "    for true, pred in zip(y_true, y_pred):\n",
    "        if true == 1 and pred == 1:\n",
    "            tp += 1\n",
    "        elif true == 0 and pred == 0:\n",
    "            tn += 1\n",
    "        elif true == 1 and pred == 0:\n",
    "            fn += 1\n",
    "        else:\n",
    "            fp += 1\n",
    "    print (\"True positive:\", float(tp)/total)\n",
    "    print (\"True negative:\", float(tn)/total)\n",
    "    print (\"False positive:\", float(fp)/total)\n",
    "    print (\"False negative:\", float(fn)/total)\n",
    "    print ()\n",
    "    print (\"Accuracy: \", float(tn + tp)/total)"
   ]
  },
  {
   "cell_type": "markdown",
   "metadata": {},
   "source": [
    "Build models (*Maybe we can try compare using dense neural network and random forest?*)\n",
    "\n",
    "1) Simple sequential neural network"
   ]
  },
  {
   "cell_type": "code",
   "execution_count": 11,
   "metadata": {},
   "outputs": [],
   "source": [
    "def build_simple_model():\n",
    "    model = Sequential()\n",
    "    model.add(Dense(128, input_dim=2048, activation='relu', kernel_regularizer=regularizers.l2(0.)))\n",
    "    model.add(Dense(8, input_dim=128, activation='softmax'))\n",
    "    model.add(Dense(1, input_dim=8, activation='sigmoid'))\n",
    "    \n",
    "    # Compile model\n",
    "    model.compile(loss='binary_crossentropy', optimizer='adam', metrics=['accuracy'])\n",
    "    \n",
    "    return model\n",
    "\n",
    "model = build_simple_model()"
   ]
  },
  {
   "cell_type": "code",
   "execution_count": 12,
   "metadata": {},
   "outputs": [
    {
     "name": "stderr",
     "output_type": "stream",
     "text": [
      "/Users/AikRui/anaconda3/lib/python3.6/site-packages/keras/models.py:981: UserWarning: The `nb_epoch` argument in `fit` has been renamed `epochs`.\n",
      "  warnings.warn('The `nb_epoch` argument in `fit` '\n"
     ]
    },
    {
     "name": "stdout",
     "output_type": "stream",
     "text": [
      "Epoch 1/25\n",
      "22610/22610 [==============================] - 6s 253us/step - loss: 0.4969 - acc: 0.8115\n",
      "Epoch 2/25\n",
      "22610/22610 [==============================] - 6s 248us/step - loss: 0.3774 - acc: 0.8715\n",
      "Epoch 3/25\n",
      "22610/22610 [==============================] - 5s 219us/step - loss: 0.3251 - acc: 0.8868\n",
      "Epoch 4/25\n",
      "22610/22610 [==============================] - 5s 223us/step - loss: 0.2920 - acc: 0.8903\n",
      "Epoch 5/25\n",
      "22610/22610 [==============================] - 5s 236us/step - loss: 0.2737 - acc: 0.9035\n",
      "Epoch 6/25\n",
      "22610/22610 [==============================] - 6s 254us/step - loss: 0.2567 - acc: 0.9057\n",
      "Epoch 7/25\n",
      "22610/22610 [==============================] - 6s 253us/step - loss: 0.2337 - acc: 0.9108\n",
      "Epoch 8/25\n",
      "22610/22610 [==============================] - 5s 230us/step - loss: 0.2232 - acc: 0.9161\n",
      "Epoch 9/25\n",
      "22610/22610 [==============================] - 5s 239us/step - loss: 0.2311 - acc: 0.9144\n",
      "Epoch 10/25\n",
      "22610/22610 [==============================] - 6s 255us/step - loss: 0.2080 - acc: 0.9238\n",
      "Epoch 11/25\n",
      "22610/22610 [==============================] - 5s 237us/step - loss: 0.1974 - acc: 0.9244\n",
      "Epoch 12/25\n",
      "22610/22610 [==============================] - 5s 242us/step - loss: 0.1952 - acc: 0.9261\n",
      "Epoch 13/25\n",
      "22610/22610 [==============================] - 5s 223us/step - loss: 0.1884 - acc: 0.9290\n",
      "Epoch 14/25\n",
      "22610/22610 [==============================] - 6s 276us/step - loss: 0.1953 - acc: 0.9261\n",
      "Epoch 15/25\n",
      "22610/22610 [==============================] - 6s 258us/step - loss: 0.1936 - acc: 0.9278\n",
      "Epoch 16/25\n",
      "22610/22610 [==============================] - 5s 233us/step - loss: 0.1857 - acc: 0.9316\n",
      "Epoch 17/25\n",
      "22610/22610 [==============================] - 5s 235us/step - loss: 0.1837 - acc: 0.9323\n",
      "Epoch 18/25\n",
      "22610/22610 [==============================] - 5s 223us/step - loss: 0.1834 - acc: 0.9336\n",
      "Epoch 19/25\n",
      "22610/22610 [==============================] - 5s 225us/step - loss: 0.1765 - acc: 0.9395\n",
      "Epoch 20/25\n",
      "22610/22610 [==============================] - 5s 228us/step - loss: 0.1719 - acc: 0.9374\n",
      "Epoch 21/25\n",
      "22610/22610 [==============================] - 5s 229us/step - loss: 0.1549 - acc: 0.9449\n",
      "Epoch 22/25\n",
      "22610/22610 [==============================] - 5s 231us/step - loss: 0.1563 - acc: 0.9447\n",
      "Epoch 23/25\n",
      "22610/22610 [==============================] - 5s 228us/step - loss: 0.1507 - acc: 0.9472\n",
      "Epoch 24/25\n",
      "22610/22610 [==============================] - 5s 231us/step - loss: 0.1687 - acc: 0.9407\n",
      "Epoch 25/25\n",
      "22610/22610 [==============================] - 5s 240us/step - loss: 0.1528 - acc: 0.9450\n"
     ]
    }
   ],
   "source": [
    "history = model.fit(x_train, y_train, nb_epoch=25, batch_size=32)"
   ]
  },
  {
   "cell_type": "code",
   "execution_count": 13,
   "metadata": {},
   "outputs": [],
   "source": [
    "y_pred = model.predict(x_test)\n",
    "y_pred = np.around(np.ndarray.flatten(y_pred))"
   ]
  },
  {
   "cell_type": "code",
   "execution_count": 15,
   "metadata": {},
   "outputs": [
    {
     "name": "stdout",
     "output_type": "stream",
     "text": [
      "True positive: 0.45568724571024233\n",
      "True negative: 0.44595789846099415\n",
      "False positive: 0.07182027242172298\n",
      "False negative: 0.02653458340704051\n",
      "\n",
      "Accuracy:  0.9016451441712365\n"
     ]
    }
   ],
   "source": [
    "classification_metrics(y_test, y_pred)"
   ]
  },
  {
   "cell_type": "markdown",
   "metadata": {},
   "source": [
    "2) Use random forest model"
   ]
  },
  {
   "cell_type": "code",
   "execution_count": 16,
   "metadata": {},
   "outputs": [],
   "source": [
    "rfc = RandomForestClassifier(n_estimators=200, max_depth=2, random_state=0, n_jobs=-1)"
   ]
  },
  {
   "cell_type": "code",
   "execution_count": 17,
   "metadata": {},
   "outputs": [
    {
     "data": {
      "text/plain": [
       "RandomForestClassifier(bootstrap=True, class_weight=None, criterion='gini',\n",
       "            max_depth=2, max_features='auto', max_leaf_nodes=None,\n",
       "            min_impurity_decrease=0.0, min_impurity_split=None,\n",
       "            min_samples_leaf=1, min_samples_split=2,\n",
       "            min_weight_fraction_leaf=0.0, n_estimators=200, n_jobs=-1,\n",
       "            oob_score=False, random_state=0, verbose=0, warm_start=False)"
      ]
     },
     "execution_count": 17,
     "metadata": {},
     "output_type": "execute_result"
    }
   ],
   "source": [
    "rfc.fit(x_train, y_train)"
   ]
  },
  {
   "cell_type": "code",
   "execution_count": 18,
   "metadata": {},
   "outputs": [],
   "source": [
    "y_pred = rfc.predict(x_test)"
   ]
  },
  {
   "cell_type": "code",
   "execution_count": 19,
   "metadata": {},
   "outputs": [
    {
     "name": "stdout",
     "output_type": "stream",
     "text": [
      "True positive: 0.25809304793914734\n",
      "True negative: 0.3962497788784716\n",
      "False positive: 0.12152839200424553\n",
      "False negative: 0.2241287811781355\n",
      "\n",
      "Accuracy:  0.654342826817619\n"
     ]
    }
   ],
   "source": [
    "classification_metrics(y_test, y_pred)"
   ]
  },
  {
   "cell_type": "markdown",
   "metadata": {},
   "source": [
    "3) Convolutional Neural Network"
   ]
  },
  {
   "cell_type": "code",
   "execution_count": null,
   "metadata": {},
   "outputs": [],
   "source": []
  }
 ],
 "metadata": {
  "kernelspec": {
   "display_name": "Python 3",
   "language": "python",
   "name": "python3"
  },
  "language_info": {
   "codemirror_mode": {
    "name": "ipython",
    "version": 3
   },
   "file_extension": ".py",
   "mimetype": "text/x-python",
   "name": "python",
   "nbconvert_exporter": "python",
   "pygments_lexer": "ipython3",
   "version": "3.6.6"
  }
 },
 "nbformat": 4,
 "nbformat_minor": 2
}
