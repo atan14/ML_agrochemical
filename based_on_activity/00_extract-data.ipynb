{
 "cells": [
  {
   "cell_type": "code",
   "execution_count": 1,
   "metadata": {},
   "outputs": [],
   "source": [
    "%matplotlib inline\n",
    "import numpy as np\n",
    "import pandas as pd\n",
    "import os\n",
    "import sqlite3\n",
    "import matplotlib.pyplot as plt\n",
    "import collections\n",
    "import rdkit.Chem as chem"
   ]
  },
  {
   "cell_type": "code",
   "execution_count": 2,
   "metadata": {},
   "outputs": [],
   "source": [
    "db = sqlite3.connect('../chembl_24.db')\n",
    "c = db.cursor()"
   ]
  },
  {
   "cell_type": "markdown",
   "metadata": {},
   "source": [
    "Using assay identifier"
   ]
  },
  {
   "cell_type": "code",
   "execution_count": 3,
   "metadata": {},
   "outputs": [],
   "source": [
    "chembl_assay_id = pd.read_csv(\"../assay_identifier.txt\", delimiter='\\t', skiprows=2, usecols=[2])\n",
    "chembl_assay_id = list(chembl_assay_id['ChEMBL assay identifier'])\n",
    "\n",
    "assay_id = c.execute(\"SELECT assay_id, bao_format, chembl_id FROM assays WHERE chembl_id IN \" + str(tuple(chembl_assay_id))).fetchall()\n",
    "assay_id = [i[0] for i in assay_id if i[1] == 'BAO_0000218']"
   ]
  },
  {
   "cell_type": "markdown",
   "metadata": {},
   "source": [
    "Using document identifier"
   ]
  },
  {
   "cell_type": "code",
   "execution_count": 4,
   "metadata": {},
   "outputs": [],
   "source": [
    "document_identifiers = pd.read_csv(\"../document_identifier.txt\", delimiter='\\t', skiprows=2, usecols=[6])\n",
    "document_identifiers = list(document_identifiers['ChEMBL document identifier'])\n",
    "\n",
    "unique_doc_id = c.execute(\"SELECT doc_id FROM docs WHERE chembl_id IN \" + str(tuple(document_identifiers))).fetchall()\n",
    "unique_doc_id = [i[0] for i in unique_doc_id]"
   ]
  },
  {
   "cell_type": "markdown",
   "metadata": {},
   "source": [
    "Get agrochemicals"
   ]
  },
  {
   "cell_type": "code",
   "execution_count": 5,
   "metadata": {},
   "outputs": [],
   "source": [
    "compounds1 = c.execute(\"SELECT act.molregno, \" #0\n",
    "                      \"act.assay_id, \" #1\n",
    "                      \"act.doc_id, \" #2\n",
    "                      \"act.standard_type, \" #3\n",
    "                      \"act.standard_relation, \" #4\n",
    "                      \"act.standard_value, \" #5\n",
    "                      \"act.standard_units, \" #6\n",
    "                      \"p.full_mwt, \" #7\n",
    "                      \"s.canonical_smiles \" #8\n",
    "                      \"FROM activities act \" \n",
    "                      \"LEFT JOIN compound_properties p ON act.molregno = p.molregno \" \n",
    "                      \"JOIN compound_structures s ON p.molregno = s.molregno \" \n",
    "                      \"WHERE act.assay_id IN %s \" \n",
    "                      \"AND act.doc_id IN %s \" \n",
    "                      \"AND act.data_validity_comment IS NULL \"\n",
    "                      \"AND s.canonical_smiles != '' \"\n",
    "                      \"AND act.standard_flag = 1 \"\n",
    "                      \"AND act.potential_duplicate = 0\" %(str(tuple(assay_id)), str(tuple(unique_doc_id)))\n",
    "                     ).fetchall()"
   ]
  },
  {
   "cell_type": "code",
   "execution_count": 6,
   "metadata": {},
   "outputs": [
    {
     "data": {
      "text/plain": [
       "72917"
      ]
     },
     "execution_count": 6,
     "metadata": {},
     "output_type": "execute_result"
    }
   ],
   "source": [
    "s = list(set(compounds1))\n",
    "s = [list(i) for i in s]\n",
    "len(s)"
   ]
  },
  {
   "cell_type": "code",
   "execution_count": 7,
   "metadata": {},
   "outputs": [
    {
     "data": {
      "text/plain": [
       "12248"
      ]
     },
     "execution_count": 7,
     "metadata": {},
     "output_type": "execute_result"
    }
   ],
   "source": [
    "unique_molregno = list(set([i[0] for i in s]))\n",
    "len(unique_molregno)"
   ]
  },
  {
   "cell_type": "markdown",
   "metadata": {},
   "source": [
    "Functions"
   ]
  },
  {
   "cell_type": "code",
   "execution_count": 8,
   "metadata": {},
   "outputs": [],
   "source": [
    "def find_min_activity(my_list, match):\n",
    "    matches = [i for i in my_list if i[0] == match]\n",
    "    if not all([i[6] == matches[0][6] for i in matches]):\n",
    "        raise Exception(\"Units are not the same!\")\n",
    "    min_idx = np.argmin([i[5] for i in matches])\n",
    "    return matches[min_idx]\n",
    "\n",
    "def classify(compound):\n",
    "    if compound[6] == 'nM':\n",
    "        if compound[5] < 100.0:\n",
    "            return 0\n",
    "        elif compound[5] >= 100.0 and compound[5] < 10000.0:\n",
    "            return 1\n",
    "        else:\n",
    "            return 2\n",
    "    elif compound[6] == '%':\n",
    "        if compound[5] > 75.0:\n",
    "            return 0\n",
    "        elif compound[5] > 50.0 and compound[5] <= 75.0:\n",
    "            return 1\n",
    "        else:\n",
    "            return 2\n",
    "    else:\n",
    "        raise Exception(\"Unit %s is not standard.\" %compound[6])"
   ]
  },
  {
   "cell_type": "markdown",
   "metadata": {},
   "source": [
    "### IC50"
   ]
  },
  {
   "cell_type": "code",
   "execution_count": 9,
   "metadata": {},
   "outputs": [
    {
     "data": {
      "text/plain": [
       "(1766, 706)"
      ]
     },
     "execution_count": 9,
     "metadata": {},
     "output_type": "execute_result"
    }
   ],
   "source": [
    "ic50_ugmL = [i for i in s if i[3] == 'IC50' and i[6] == 'ug.mL-1']\n",
    "ic50_nM = [i for i in s if i[3] == 'IC50' and i[6] == 'nM']\n",
    "len(ic50_nM), len(ic50_ugmL)"
   ]
  },
  {
   "cell_type": "code",
   "execution_count": 10,
   "metadata": {},
   "outputs": [],
   "source": [
    "for i in ic50_ugmL:\n",
    "    i[5] = float(i[5])*1.E6/float(i[7])\n",
    "    i[6] = 'nM'"
   ]
  },
  {
   "cell_type": "code",
   "execution_count": 11,
   "metadata": {},
   "outputs": [],
   "source": [
    "ic50_nM.extend(ic50_ugmL)"
   ]
  },
  {
   "cell_type": "code",
   "execution_count": 12,
   "metadata": {},
   "outputs": [
    {
     "data": {
      "text/plain": [
       "(2472, 1390)"
      ]
     },
     "execution_count": 12,
     "metadata": {},
     "output_type": "execute_result"
    }
   ],
   "source": [
    "unique_ic50_molregno = list(set([i[0] for i in ic50_nM]))\n",
    "len(ic50_nM), len(unique_ic50_molregno)"
   ]
  },
  {
   "cell_type": "code",
   "execution_count": 13,
   "metadata": {},
   "outputs": [],
   "source": [
    "ic50 = [find_min_activity(ic50_nM, x) for x in unique_ic50_molregno]"
   ]
  },
  {
   "cell_type": "code",
   "execution_count": 14,
   "metadata": {},
   "outputs": [
    {
     "data": {
      "text/plain": [
       "Text(0.5,0,'$log_{10}$ IC50 (nM)')"
      ]
     },
     "execution_count": 14,
     "metadata": {},
     "output_type": "execute_result"
    },
    {
     "data": {
      "image/png": "[encoded data removed]",
      "text/plain": [
       "<matplotlib.figure.Figure at 0x10c693b70>"
      ]
     },
     "metadata": {},
     "output_type": "display_data"
    }
   ],
   "source": [
    "fig, ax = plt.subplots()\n",
    "ax.set_title(\"IC50\")\n",
    "ax.hist(np.log10([i[5] for i in ic50_nM]), alpha=0.75)\n",
    "ax.set_ylabel(\"Number of compounds\")\n",
    "ax.set_xlabel(\"$log_{10}$ IC50 (nM)\")"
   ]
  },
  {
   "cell_type": "markdown",
   "metadata": {},
   "source": [
    "### EC50"
   ]
  },
  {
   "cell_type": "code",
   "execution_count": 15,
   "metadata": {},
   "outputs": [
    {
     "data": {
      "text/plain": [
       "(1163, 2589)"
      ]
     },
     "execution_count": 15,
     "metadata": {},
     "output_type": "execute_result"
    }
   ],
   "source": [
    "ec50_ugmL = [i for i in s if i[3] == 'EC50' and i[6] == 'ug.mL-1']\n",
    "ec50_nM = [i for i in s if i[3] == 'EC50' and i[6] == 'nM']\n",
    "len(ec50_nM), len(ec50_ugmL)"
   ]
  },
  {
   "cell_type": "code",
   "execution_count": 16,
   "metadata": {},
   "outputs": [],
   "source": [
    "for i in ec50_ugmL:\n",
    "    i[5] = float(i[5])*1.E6/float(i[7])\n",
    "    i[6] = 'nM'"
   ]
  },
  {
   "cell_type": "code",
   "execution_count": 17,
   "metadata": {},
   "outputs": [],
   "source": [
    "ec50_nM.extend(ec50_ugmL)"
   ]
  },
  {
   "cell_type": "code",
   "execution_count": 18,
   "metadata": {
    "scrolled": true
   },
   "outputs": [
    {
     "data": {
      "text/plain": [
       "(3752, 1174)"
      ]
     },
     "execution_count": 18,
     "metadata": {},
     "output_type": "execute_result"
    }
   ],
   "source": [
    "unique_ec50_molregno = list(set([i[0] for i in ec50_nM]))\n",
    "len(ec50_nM), len(unique_ec50_molregno)"
   ]
  },
  {
   "cell_type": "code",
   "execution_count": 19,
   "metadata": {},
   "outputs": [],
   "source": [
    "ec50 = [find_min_activity(ec50_nM, x) for x in unique_ec50_molregno]"
   ]
  },
  {
   "cell_type": "code",
   "execution_count": 20,
   "metadata": {},
   "outputs": [
    {
     "data": {
      "text/plain": [
       "Text(0.5,0,'$log_{10}$ EC50 (nM)')"
      ]
     },
     "execution_count": 20,
     "metadata": {},
     "output_type": "execute_result"
    },
    {
     "data": {
      "image/png": "[encoded data removed]",
      "text/plain": [
       "<matplotlib.figure.Figure at 0x10f6c6160>"
      ]
     },
     "metadata": {},
     "output_type": "display_data"
    }
   ],
   "source": [
    "fig, ax = plt.subplots()\n",
    "ax.set_title(\"EC50\")\n",
    "ax.hist(np.log10([i[5] for i in ec50_nM]), alpha=0.75)\n",
    "ax.set_ylabel(\"Number of compounds\")\n",
    "ax.set_xlabel(\"$log_{10}$ EC50 (nM)\")"
   ]
  },
  {
   "cell_type": "markdown",
   "metadata": {},
   "source": [
    "### LC50"
   ]
  },
  {
   "cell_type": "code",
   "execution_count": 21,
   "metadata": {},
   "outputs": [
    {
     "data": {
      "text/plain": [
       "(301, 1248)"
      ]
     },
     "execution_count": 21,
     "metadata": {},
     "output_type": "execute_result"
    }
   ],
   "source": [
    "lc50_ugmL = [i for i in s if i[3] == 'LC50' and i[6] == 'ug.mL-1']\n",
    "lc50_nM = [i for i in s if i[3] == 'LC50' and i[6] == 'nM']\n",
    "len(lc50_nM), len(lc50_ugmL)"
   ]
  },
  {
   "cell_type": "code",
   "execution_count": 22,
   "metadata": {},
   "outputs": [],
   "source": [
    "for i in lc50_ugmL:\n",
    "    i[5] = float(i[5])*1.E6/float(i[7])\n",
    "    i[6] = 'nM'"
   ]
  },
  {
   "cell_type": "code",
   "execution_count": 23,
   "metadata": {},
   "outputs": [],
   "source": [
    "lc50_nM.extend(lc50_ugmL)"
   ]
  },
  {
   "cell_type": "code",
   "execution_count": 24,
   "metadata": {
    "scrolled": true
   },
   "outputs": [
    {
     "data": {
      "text/plain": [
       "(1549, 614)"
      ]
     },
     "execution_count": 24,
     "metadata": {},
     "output_type": "execute_result"
    }
   ],
   "source": [
    "unique_lc50_molregno = list(set([i[0] for i in lc50_nM]))\n",
    "len(lc50_nM), len(unique_lc50_molregno)"
   ]
  },
  {
   "cell_type": "code",
   "execution_count": 25,
   "metadata": {},
   "outputs": [],
   "source": [
    "lc50 = [find_min_activity(lc50_nM, x) for x in unique_lc50_molregno]"
   ]
  },
  {
   "cell_type": "code",
   "execution_count": 26,
   "metadata": {},
   "outputs": [
    {
     "data": {
      "text/plain": [
       "Text(0.5,0,'$log_{10}$ LC50 (nM)')"
      ]
     },
     "execution_count": 26,
     "metadata": {},
     "output_type": "execute_result"
    },
    {
     "data": {
      "image/png": "[encoded data removed]",
      "text/plain": [
       "<matplotlib.figure.Figure at 0x10c693518>"
      ]
     },
     "metadata": {},
     "output_type": "display_data"
    }
   ],
   "source": [
    "fig, ax = plt.subplots()\n",
    "ax.set_title(\"LC50\")\n",
    "ax.hist(np.log10([i[5] for i in lc50_nM]), alpha=0.75)\n",
    "ax.set_ylabel(\"Number of compounds\")\n",
    "ax.set_xlabel(\"$log_{10}$ LC50 (nM)\")"
   ]
  },
  {
   "cell_type": "markdown",
   "metadata": {},
   "source": [
    "### Inhibition"
   ]
  },
  {
   "cell_type": "code",
   "execution_count": 27,
   "metadata": {},
   "outputs": [
    {
     "data": {
      "text/plain": [
       "13741"
      ]
     },
     "execution_count": 27,
     "metadata": {},
     "output_type": "execute_result"
    }
   ],
   "source": [
    "inhibition = [i for i in s if i[3] == 'Inhibition' and i[6] == '%']\n",
    "len(inhibition)"
   ]
  },
  {
   "cell_type": "code",
   "execution_count": 28,
   "metadata": {},
   "outputs": [
    {
     "data": {
      "text/plain": [
       "3406"
      ]
     },
     "execution_count": 28,
     "metadata": {},
     "output_type": "execute_result"
    }
   ],
   "source": [
    "unique_inhibition_molregno = list(set([i[0] for i in inhibition]))\n",
    "len(unique_inhibition_molregno)"
   ]
  },
  {
   "cell_type": "code",
   "execution_count": 29,
   "metadata": {},
   "outputs": [],
   "source": [
    "inhibition = [find_min_activity(inhibition, x) for x in unique_inhibition_molregno]"
   ]
  },
  {
   "cell_type": "code",
   "execution_count": 30,
   "metadata": {},
   "outputs": [
    {
     "data": {
      "text/plain": [
       "Text(0.5,0,'%')"
      ]
     },
     "execution_count": 30,
     "metadata": {},
     "output_type": "execute_result"
    },
    {
     "data": {
      "image/png": "[encoded data removed]",
      "text/plain": [
       "<matplotlib.figure.Figure at 0x1100f7128>"
      ]
     },
     "metadata": {},
     "output_type": "display_data"
    }
   ],
   "source": [
    "fig, ax = plt.subplots()\n",
    "ax.set_title(\"Inhibition\")\n",
    "ax.hist(([i[5] for i in inhibition]), alpha=0.75)\n",
    "ax.set_ylabel(\"Number of compounds\")\n",
    "ax.set_xlabel(\"%\")"
   ]
  },
  {
   "cell_type": "markdown",
   "metadata": {},
   "source": [
    "### Check for compounds with active/inactive activity_comments"
   ]
  },
  {
   "cell_type": "code",
   "execution_count": 31,
   "metadata": {},
   "outputs": [],
   "source": [
    "compounds2 = c.execute(\"SELECT act.molregno, \" #0\n",
    "                      \"act.assay_id, \" #1\n",
    "                      \"act.doc_id, \" #2\n",
    "                      \"act.standard_type, \" #3\n",
    "                      \"act.standard_relation, \" #4\n",
    "                      \"act.standard_value, \" #5\n",
    "                      \"act.standard_units, \" #6\n",
    "                      \"p.full_mwt, \" #7\n",
    "                      \"s.canonical_smiles, \" #8\n",
    "                      \"act.activity_comment \" #9\n",
    "                      \"FROM activities act \" \n",
    "                      \"LEFT JOIN compound_properties p ON act.molregno = p.molregno \" \n",
    "                      \"JOIN compound_structures s ON p.molregno = s.molregno \" \n",
    "                      \"WHERE act.assay_id IN %s \" \n",
    "                      \"AND act.doc_id IN %s \" \n",
    "                      \"AND act.data_validity_comment IS NULL \"\n",
    "                      \"AND s.canonical_smiles IS NOT NULL \"\n",
    "                      \"AND act.activity_comment IS NOT NULL \"\n",
    "                      \"AND act.standard_type NOT IN ('IC50', 'EC50', 'LC50', 'Inhibition') \"\n",
    "                      \"AND act.activity_comment IN ('Active', 'Not Active') \"\n",
    "#                       \"AND act.standard_flag = 1 \"\n",
    "                      \"AND act.potential_duplicate = 0\" %(str(tuple(assay_id)), str(tuple(unique_doc_id)))\n",
    "                     ).fetchall()"
   ]
  },
  {
   "cell_type": "code",
   "execution_count": 32,
   "metadata": {},
   "outputs": [
    {
     "data": {
      "text/plain": [
       "19650"
      ]
     },
     "execution_count": 32,
     "metadata": {},
     "output_type": "execute_result"
    }
   ],
   "source": [
    "s2 = list(set(compounds2))\n",
    "s2 = [list(i) for i in s2]\n",
    "len(s2)"
   ]
  },
  {
   "cell_type": "code",
   "execution_count": 33,
   "metadata": {},
   "outputs": [
    {
     "data": {
      "text/plain": [
       "(19650, 4060)"
      ]
     },
     "execution_count": 33,
     "metadata": {},
     "output_type": "execute_result"
    }
   ],
   "source": [
    "non_unique_activity_molregno = [i[0] for i in s2]\n",
    "unique_activity_molregno = list(set(non_unique_activity_molregno))\n",
    "len(non_unique_activity_molregno), len(unique_activity_molregno)"
   ]
  },
  {
   "cell_type": "code",
   "execution_count": 34,
   "metadata": {},
   "outputs": [],
   "source": [
    "idx = [non_unique_activity_molregno.index(i) for i in unique_activity_molregno]\n",
    "activity_comment = [s2[i] for i in idx]"
   ]
  },
  {
   "cell_type": "code",
   "execution_count": 35,
   "metadata": {},
   "outputs": [],
   "source": [
    "for i in s2:\n",
    "    if i[9] == 'Active':\n",
    "        i[9] = 0\n",
    "    elif i[9] == 'Not Active':\n",
    "        i[9] = 2"
   ]
  },
  {
   "cell_type": "markdown",
   "metadata": {},
   "source": [
    "Merge all lists into one"
   ]
  },
  {
   "cell_type": "code",
   "execution_count": 36,
   "metadata": {},
   "outputs": [],
   "source": [
    "activity = []\n",
    "for i in [ic50, ec50, lc50, inhibition]:\n",
    "    activity.extend(i)"
   ]
  },
  {
   "cell_type": "code",
   "execution_count": 37,
   "metadata": {},
   "outputs": [],
   "source": [
    "for i in activity:\n",
    "    i.append(classify(i))"
   ]
  },
  {
   "cell_type": "code",
   "execution_count": 38,
   "metadata": {},
   "outputs": [],
   "source": [
    "activity.extend(activity_comment)"
   ]
  },
  {
   "cell_type": "markdown",
   "metadata": {},
   "source": [
    "Remove duplicated compounds and only take the most active case"
   ]
  },
  {
   "cell_type": "code",
   "execution_count": 39,
   "metadata": {},
   "outputs": [],
   "source": [
    "molregno = [i[0] for i in activity]\n",
    "dup_molregno = set([item for item, count in collections.Counter(molregno).items() if count > 1])"
   ]
  },
  {
   "cell_type": "code",
   "execution_count": 40,
   "metadata": {},
   "outputs": [],
   "source": [
    "duplicates = []\n",
    "for i in dup_molregno:\n",
    "    matches = [j for j in activity if j[0] == i]\n",
    "    c = np.argmin([m[9] for m in matches])\n",
    "    duplicates.append(matches[c])"
   ]
  },
  {
   "cell_type": "code",
   "execution_count": 41,
   "metadata": {},
   "outputs": [],
   "source": [
    "activity = [i for i in activity if i[0] not in dup_molregno]\n",
    "activity.extend(duplicates)"
   ]
  },
  {
   "cell_type": "markdown",
   "metadata": {},
   "source": [
    "Convert to pandas dataframe"
   ]
  },
  {
   "cell_type": "code",
   "execution_count": 42,
   "metadata": {},
   "outputs": [
    {
     "data": {
      "text/html": [
       "<div>\n",
       "<style scoped>\n",
       "    .dataframe tbody tr th:only-of-type {\n",
       "        vertical-align: middle;\n",
       "    }\n",
       "\n",
       "    .dataframe tbody tr th {\n",
       "        vertical-align: top;\n",
       "    }\n",
       "\n",
       "    .dataframe thead th {\n",
       "        text-align: right;\n",
       "    }\n",
       "</style>\n",
       "<table border=\"1\" class=\"dataframe\">\n",
       "  <thead>\n",
       "    <tr style=\"text-align: right;\">\n",
       "      <th></th>\n",
       "      <th>molregno</th>\n",
       "      <th>assay_id</th>\n",
       "      <th>doc_id</th>\n",
       "      <th>type</th>\n",
       "      <th>relation</th>\n",
       "      <th>value</th>\n",
       "      <th>unit</th>\n",
       "      <th>mwt</th>\n",
       "      <th>smiles</th>\n",
       "      <th>agrochemical</th>\n",
       "    </tr>\n",
       "  </thead>\n",
       "  <tbody>\n",
       "    <tr>\n",
       "      <th>0</th>\n",
       "      <td>114777</td>\n",
       "      <td>931224</td>\n",
       "      <td>71436</td>\n",
       "      <td>IC50</td>\n",
       "      <td>=</td>\n",
       "      <td>11060.000000</td>\n",
       "      <td>nM</td>\n",
       "      <td>227.72</td>\n",
       "      <td>C\\C(=N\\N=C(/N)\\S)\\c1ccc(Cl)cc1</td>\n",
       "      <td>2</td>\n",
       "    </tr>\n",
       "    <tr>\n",
       "      <th>1</th>\n",
       "      <td>335978</td>\n",
       "      <td>931027</td>\n",
       "      <td>71549</td>\n",
       "      <td>IC50</td>\n",
       "      <td>=</td>\n",
       "      <td>3038.881026</td>\n",
       "      <td>nM</td>\n",
       "      <td>240.22</td>\n",
       "      <td>[O-][N+](=O)c1ccc2[nH]c(nc2c1)c3ccccn3</td>\n",
       "      <td>1</td>\n",
       "    </tr>\n",
       "    <tr>\n",
       "      <th>2</th>\n",
       "      <td>934012</td>\n",
       "      <td>922677</td>\n",
       "      <td>70765</td>\n",
       "      <td>IC50</td>\n",
       "      <td>&gt;</td>\n",
       "      <td>17424.712822</td>\n",
       "      <td>nM</td>\n",
       "      <td>257.68</td>\n",
       "      <td>Clc1ccc(cc1)c2oc(nn2)c3cccnc3</td>\n",
       "      <td>2</td>\n",
       "    </tr>\n",
       "    <tr>\n",
       "      <th>3</th>\n",
       "      <td>1491083</td>\n",
       "      <td>922588</td>\n",
       "      <td>70740</td>\n",
       "      <td>IC50</td>\n",
       "      <td>&gt;</td>\n",
       "      <td>100000.000000</td>\n",
       "      <td>nM</td>\n",
       "      <td>369.85</td>\n",
       "      <td>CC(C1NC(=O)NC(=C1C(=O)Nc2ccccc2Cl)C)c3ccccc3</td>\n",
       "      <td>2</td>\n",
       "    </tr>\n",
       "    <tr>\n",
       "      <th>4</th>\n",
       "      <td>1491084</td>\n",
       "      <td>922588</td>\n",
       "      <td>70740</td>\n",
       "      <td>IC50</td>\n",
       "      <td>&gt;</td>\n",
       "      <td>100000.000000</td>\n",
       "      <td>nM</td>\n",
       "      <td>324.41</td>\n",
       "      <td>CC1=C(C(NC(=S)N1)c2ccccc2)C(=O)Oc3ccccc3</td>\n",
       "      <td>2</td>\n",
       "    </tr>\n",
       "    <tr>\n",
       "      <th>5</th>\n",
       "      <td>1491085</td>\n",
       "      <td>922588</td>\n",
       "      <td>70740</td>\n",
       "      <td>IC50</td>\n",
       "      <td>&gt;</td>\n",
       "      <td>100000.000000</td>\n",
       "      <td>nM</td>\n",
       "      <td>268.36</td>\n",
       "      <td>COC(=O)C1=C(C)NC(=S)NC1c2cccs2</td>\n",
       "      <td>2</td>\n",
       "    </tr>\n",
       "    <tr>\n",
       "      <th>6</th>\n",
       "      <td>1491086</td>\n",
       "      <td>922588</td>\n",
       "      <td>70740</td>\n",
       "      <td>IC50</td>\n",
       "      <td>=</td>\n",
       "      <td>7900.000000</td>\n",
       "      <td>nM</td>\n",
       "      <td>296.42</td>\n",
       "      <td>CCCOC(=O)C1=C(C)NC(=S)NC1c2cccs2</td>\n",
       "      <td>1</td>\n",
       "    </tr>\n",
       "    <tr>\n",
       "      <th>7</th>\n",
       "      <td>1491088</td>\n",
       "      <td>922588</td>\n",
       "      <td>70740</td>\n",
       "      <td>IC50</td>\n",
       "      <td>&gt;</td>\n",
       "      <td>100000.000000</td>\n",
       "      <td>nM</td>\n",
       "      <td>468.97</td>\n",
       "      <td>CC1=C(C(NC(=O)N1)c2cnc(CS)n2Nc3ccccc3)C(=O)Nc4...</td>\n",
       "      <td>2</td>\n",
       "    </tr>\n",
       "    <tr>\n",
       "      <th>8</th>\n",
       "      <td>1491089</td>\n",
       "      <td>922588</td>\n",
       "      <td>70740</td>\n",
       "      <td>IC50</td>\n",
       "      <td>&gt;</td>\n",
       "      <td>100000.000000</td>\n",
       "      <td>nM</td>\n",
       "      <td>468.97</td>\n",
       "      <td>CC1=C(C(NC(=O)N1)c2cnc(CS)n2Nc3ccccc3)C(=O)Nc4...</td>\n",
       "      <td>2</td>\n",
       "    </tr>\n",
       "    <tr>\n",
       "      <th>9</th>\n",
       "      <td>1491091</td>\n",
       "      <td>922588</td>\n",
       "      <td>70740</td>\n",
       "      <td>IC50</td>\n",
       "      <td>=</td>\n",
       "      <td>67000.000000</td>\n",
       "      <td>nM</td>\n",
       "      <td>483.00</td>\n",
       "      <td>CC1=C(C(NC(=O)N1)c2cnc(CS)n2NCc3ccccc3)C(=O)Nc...</td>\n",
       "      <td>2</td>\n",
       "    </tr>\n",
       "    <tr>\n",
       "      <th>10</th>\n",
       "      <td>1491096</td>\n",
       "      <td>922588</td>\n",
       "      <td>70740</td>\n",
       "      <td>IC50</td>\n",
       "      <td>=</td>\n",
       "      <td>93900.000000</td>\n",
       "      <td>nM</td>\n",
       "      <td>339.19</td>\n",
       "      <td>CCOC(=O)C1=C(C)NC(=O)NC1c2ccc(Br)cc2</td>\n",
       "      <td>2</td>\n",
       "    </tr>\n",
       "    <tr>\n",
       "      <th>11</th>\n",
       "      <td>1491099</td>\n",
       "      <td>922588</td>\n",
       "      <td>70740</td>\n",
       "      <td>IC50</td>\n",
       "      <td>=</td>\n",
       "      <td>82700.000000</td>\n",
       "      <td>nM</td>\n",
       "      <td>341.23</td>\n",
       "      <td>COC(=O)C1=C(C)NC(=S)NC1c2ccc(Br)cc2</td>\n",
       "      <td>2</td>\n",
       "    </tr>\n",
       "    <tr>\n",
       "      <th>12</th>\n",
       "      <td>1491100</td>\n",
       "      <td>922588</td>\n",
       "      <td>70740</td>\n",
       "      <td>IC50</td>\n",
       "      <td>=</td>\n",
       "      <td>67300.000000</td>\n",
       "      <td>nM</td>\n",
       "      <td>353.22</td>\n",
       "      <td>CCOC(=O)C1=C(C)N(C)C(=O)NC1c2ccc(Br)cc2</td>\n",
       "      <td>2</td>\n",
       "    </tr>\n",
       "    <tr>\n",
       "      <th>13</th>\n",
       "      <td>1491101</td>\n",
       "      <td>922588</td>\n",
       "      <td>70740</td>\n",
       "      <td>IC50</td>\n",
       "      <td>=</td>\n",
       "      <td>69000.000000</td>\n",
       "      <td>nM</td>\n",
       "      <td>274.32</td>\n",
       "      <td>CCOC(=O)C1=C(C)N(C)C(=O)NC1c2ccccc2</td>\n",
       "      <td>2</td>\n",
       "    </tr>\n",
       "    <tr>\n",
       "      <th>14</th>\n",
       "      <td>1491102</td>\n",
       "      <td>922588</td>\n",
       "      <td>70740</td>\n",
       "      <td>IC50</td>\n",
       "      <td>=</td>\n",
       "      <td>89700.000000</td>\n",
       "      <td>nM</td>\n",
       "      <td>308.34</td>\n",
       "      <td>CC1=C(C(NC(=O)N1)c2ccccc2)C(=O)Oc3ccccc3</td>\n",
       "      <td>2</td>\n",
       "    </tr>\n",
       "    <tr>\n",
       "      <th>15</th>\n",
       "      <td>1491103</td>\n",
       "      <td>922588</td>\n",
       "      <td>70740</td>\n",
       "      <td>IC50</td>\n",
       "      <td>&gt;</td>\n",
       "      <td>100000.000000</td>\n",
       "      <td>nM</td>\n",
       "      <td>392.31</td>\n",
       "      <td>CC1=C(C(NC(=S)N1)c2ccccc2Cl)C(=O)Nc3ccccc3Cl</td>\n",
       "      <td>2</td>\n",
       "    </tr>\n",
       "    <tr>\n",
       "      <th>16</th>\n",
       "      <td>1491105</td>\n",
       "      <td>922588</td>\n",
       "      <td>70740</td>\n",
       "      <td>IC50</td>\n",
       "      <td>&gt;</td>\n",
       "      <td>100000.000000</td>\n",
       "      <td>nM</td>\n",
       "      <td>325.34</td>\n",
       "      <td>CC1=C(C(NC(=O)N1)c2ccccc2)C(=O)Nc3ccc(F)cc3</td>\n",
       "      <td>2</td>\n",
       "    </tr>\n",
       "    <tr>\n",
       "      <th>17</th>\n",
       "      <td>1491107</td>\n",
       "      <td>922588</td>\n",
       "      <td>70740</td>\n",
       "      <td>IC50</td>\n",
       "      <td>=</td>\n",
       "      <td>67400.000000</td>\n",
       "      <td>nM</td>\n",
       "      <td>376.24</td>\n",
       "      <td>CC1=C(C(NC(=O)N1)c2ccccc2Cl)C(=O)Nc3ccccc3Cl</td>\n",
       "      <td>2</td>\n",
       "    </tr>\n",
       "    <tr>\n",
       "      <th>18</th>\n",
       "      <td>1491106</td>\n",
       "      <td>922588</td>\n",
       "      <td>70740</td>\n",
       "      <td>IC50</td>\n",
       "      <td>&gt;</td>\n",
       "      <td>100000.000000</td>\n",
       "      <td>nM</td>\n",
       "      <td>313.40</td>\n",
       "      <td>CC1=C(C(NC(=O)N1)c2ccccc2)C(=O)NC3CCCCC3</td>\n",
       "      <td>2</td>\n",
       "    </tr>\n",
       "    <tr>\n",
       "      <th>19</th>\n",
       "      <td>1491109</td>\n",
       "      <td>922588</td>\n",
       "      <td>70740</td>\n",
       "      <td>IC50</td>\n",
       "      <td>=</td>\n",
       "      <td>95400.000000</td>\n",
       "      <td>nM</td>\n",
       "      <td>420.69</td>\n",
       "      <td>CC1=C(C(NC(=O)N1)c2cccc(Br)c2)C(=O)Nc3ccccc3Cl</td>\n",
       "      <td>2</td>\n",
       "    </tr>\n",
       "    <tr>\n",
       "      <th>20</th>\n",
       "      <td>1491108</td>\n",
       "      <td>922588</td>\n",
       "      <td>70740</td>\n",
       "      <td>IC50</td>\n",
       "      <td>=</td>\n",
       "      <td>59800.000000</td>\n",
       "      <td>nM</td>\n",
       "      <td>420.69</td>\n",
       "      <td>CC1=C(C(NC(=O)N1)c2ccccc2Br)C(=O)Nc3ccccc3Cl</td>\n",
       "      <td>2</td>\n",
       "    </tr>\n",
       "    <tr>\n",
       "      <th>21</th>\n",
       "      <td>1491111</td>\n",
       "      <td>922588</td>\n",
       "      <td>70740</td>\n",
       "      <td>IC50</td>\n",
       "      <td>=</td>\n",
       "      <td>81900.000000</td>\n",
       "      <td>nM</td>\n",
       "      <td>386.80</td>\n",
       "      <td>CC1=C(C(NC(=O)N1)c2ccc(cc2)[N+](=O)[O-])C(=O)N...</td>\n",
       "      <td>2</td>\n",
       "    </tr>\n",
       "    <tr>\n",
       "      <th>22</th>\n",
       "      <td>1491112</td>\n",
       "      <td>922588</td>\n",
       "      <td>70740</td>\n",
       "      <td>IC50</td>\n",
       "      <td>&gt;</td>\n",
       "      <td>100000.000000</td>\n",
       "      <td>nM</td>\n",
       "      <td>371.82</td>\n",
       "      <td>COc1cccc(c1)C2NC(=O)NC(=C2C(=O)Nc3ccccc3Cl)C</td>\n",
       "      <td>2</td>\n",
       "    </tr>\n",
       "    <tr>\n",
       "      <th>23</th>\n",
       "      <td>1491110</td>\n",
       "      <td>922588</td>\n",
       "      <td>70740</td>\n",
       "      <td>IC50</td>\n",
       "      <td>=</td>\n",
       "      <td>10500.000000</td>\n",
       "      <td>nM</td>\n",
       "      <td>355.83</td>\n",
       "      <td>CC1=C(C(NC(=O)N1)c2ccc(C)cc2)C(=O)Nc3ccccc3Cl</td>\n",
       "      <td>2</td>\n",
       "    </tr>\n",
       "    <tr>\n",
       "      <th>24</th>\n",
       "      <td>442562</td>\n",
       "      <td>913009</td>\n",
       "      <td>70104</td>\n",
       "      <td>IC50</td>\n",
       "      <td>=</td>\n",
       "      <td>134832.981430</td>\n",
       "      <td>nM</td>\n",
       "      <td>369.42</td>\n",
       "      <td>COc1ccc2CC(=O)c3cc4OCOc4cc3CCN(C)Cc2c1OC</td>\n",
       "      <td>2</td>\n",
       "    </tr>\n",
       "    <tr>\n",
       "      <th>25</th>\n",
       "      <td>1491174</td>\n",
       "      <td>922159</td>\n",
       "      <td>70758</td>\n",
       "      <td>IC50</td>\n",
       "      <td>=</td>\n",
       "      <td>28978.974144</td>\n",
       "      <td>nM</td>\n",
       "      <td>310.57</td>\n",
       "      <td>CC(C)CCCCCCCCC(C)CC(C)C\\C(=C\\CO)\\C</td>\n",
       "      <td>2</td>\n",
       "    </tr>\n",
       "    <tr>\n",
       "      <th>26</th>\n",
       "      <td>1491175</td>\n",
       "      <td>922159</td>\n",
       "      <td>70758</td>\n",
       "      <td>IC50</td>\n",
       "      <td>=</td>\n",
       "      <td>5672.149745</td>\n",
       "      <td>nM</td>\n",
       "      <td>352.60</td>\n",
       "      <td>CC(C)CCCCCCCCC(C)CC(C)C\\C(=C\\COC(=O)C)\\C</td>\n",
       "      <td>1</td>\n",
       "    </tr>\n",
       "    <tr>\n",
       "      <th>27</th>\n",
       "      <td>246</td>\n",
       "      <td>922274</td>\n",
       "      <td>70724</td>\n",
       "      <td>IC50</td>\n",
       "      <td>=</td>\n",
       "      <td>25051.669067</td>\n",
       "      <td>nM</td>\n",
       "      <td>319.34</td>\n",
       "      <td>CCN1C=C(C(=O)O)C(=O)c2cc(F)c(cc12)N3CCNCC3</td>\n",
       "      <td>2</td>\n",
       "    </tr>\n",
       "    <tr>\n",
       "      <th>28</th>\n",
       "      <td>147749</td>\n",
       "      <td>922941</td>\n",
       "      <td>70679</td>\n",
       "      <td>IC50</td>\n",
       "      <td>=</td>\n",
       "      <td>15200.000000</td>\n",
       "      <td>nM</td>\n",
       "      <td>326.26</td>\n",
       "      <td>CC(C)\\N=C(/S)\\N1CCC(=N1)c2cccc(Br)c2</td>\n",
       "      <td>2</td>\n",
       "    </tr>\n",
       "    <tr>\n",
       "      <th>29</th>\n",
       "      <td>1491259</td>\n",
       "      <td>922677</td>\n",
       "      <td>70765</td>\n",
       "      <td>IC50</td>\n",
       "      <td>&gt;</td>\n",
       "      <td>26702.809864</td>\n",
       "      <td>nM</td>\n",
       "      <td>494.33</td>\n",
       "      <td>[O-][N+](=O)c1ccc(cc1)c2nnc(c3cccnc3)n2Nc4nc5c...</td>\n",
       "      <td>2</td>\n",
       "    </tr>\n",
       "    <tr>\n",
       "      <th>...</th>\n",
       "      <td>...</td>\n",
       "      <td>...</td>\n",
       "      <td>...</td>\n",
       "      <td>...</td>\n",
       "      <td>...</td>\n",
       "      <td>...</td>\n",
       "      <td>...</td>\n",
       "      <td>...</td>\n",
       "      <td>...</td>\n",
       "      <td>...</td>\n",
       "    </tr>\n",
       "    <tr>\n",
       "      <th>9650</th>\n",
       "      <td>16303</td>\n",
       "      <td>894078</td>\n",
       "      <td>68054</td>\n",
       "      <td>Inhibition</td>\n",
       "      <td>=</td>\n",
       "      <td>90.000000</td>\n",
       "      <td>%</td>\n",
       "      <td>352.77</td>\n",
       "      <td>COC1=CC(=O)C[C@@H](C)[C@]12Oc3c(Cl)c(OC)cc(OC)...</td>\n",
       "      <td>0</td>\n",
       "    </tr>\n",
       "    <tr>\n",
       "      <th>9651</th>\n",
       "      <td>1462195</td>\n",
       "      <td>894173</td>\n",
       "      <td>67959</td>\n",
       "      <td>EC50</td>\n",
       "      <td>=</td>\n",
       "      <td>7274.843591</td>\n",
       "      <td>nM</td>\n",
       "      <td>343.65</td>\n",
       "      <td>Cc1nnsc1C2=NNC3SC(=NN23)C(Cl)(Cl)Cl</td>\n",
       "      <td>1</td>\n",
       "    </tr>\n",
       "    <tr>\n",
       "      <th>9652</th>\n",
       "      <td>1462212</td>\n",
       "      <td>894200</td>\n",
       "      <td>67960</td>\n",
       "      <td>GI</td>\n",
       "      <td>None</td>\n",
       "      <td>NaN</td>\n",
       "      <td>None</td>\n",
       "      <td>239.20</td>\n",
       "      <td>CCC(=O)ON1C(=O)COc2ccc(F)cc12</td>\n",
       "      <td>0</td>\n",
       "    </tr>\n",
       "    <tr>\n",
       "      <th>9653</th>\n",
       "      <td>1462213</td>\n",
       "      <td>894198</td>\n",
       "      <td>67960</td>\n",
       "      <td>GI</td>\n",
       "      <td>None</td>\n",
       "      <td>NaN</td>\n",
       "      <td>None</td>\n",
       "      <td>267.26</td>\n",
       "      <td>CCCCC(=O)ON1C(=O)COc2ccc(F)cc12</td>\n",
       "      <td>0</td>\n",
       "    </tr>\n",
       "    <tr>\n",
       "      <th>9654</th>\n",
       "      <td>1462214</td>\n",
       "      <td>894201</td>\n",
       "      <td>67960</td>\n",
       "      <td>GI</td>\n",
       "      <td>None</td>\n",
       "      <td>NaN</td>\n",
       "      <td>None</td>\n",
       "      <td>211.19</td>\n",
       "      <td>CCC1Oc2ccc(F)cc2N(O)C1=O</td>\n",
       "      <td>0</td>\n",
       "    </tr>\n",
       "    <tr>\n",
       "      <th>9655</th>\n",
       "      <td>391109</td>\n",
       "      <td>919923</td>\n",
       "      <td>70619</td>\n",
       "      <td>EC50</td>\n",
       "      <td>=</td>\n",
       "      <td>79000.000000</td>\n",
       "      <td>nM</td>\n",
       "      <td>73.12</td>\n",
       "      <td>CN=C=S</td>\n",
       "      <td>2</td>\n",
       "    </tr>\n",
       "    <tr>\n",
       "      <th>9656</th>\n",
       "      <td>1991</td>\n",
       "      <td>912536</td>\n",
       "      <td>70077</td>\n",
       "      <td>Inhibition</td>\n",
       "      <td>=</td>\n",
       "      <td>80.000000</td>\n",
       "      <td>%</td>\n",
       "      <td>166.20</td>\n",
       "      <td>[Na+].CCCC(CCC)C(=O)[O-]</td>\n",
       "      <td>0</td>\n",
       "    </tr>\n",
       "    <tr>\n",
       "      <th>9657</th>\n",
       "      <td>1462217</td>\n",
       "      <td>894201</td>\n",
       "      <td>67960</td>\n",
       "      <td>IC50</td>\n",
       "      <td>=</td>\n",
       "      <td>60.000000</td>\n",
       "      <td>nM</td>\n",
       "      <td>241.67</td>\n",
       "      <td>CCCON1C(=O)COc2ccc(Cl)cc12</td>\n",
       "      <td>0</td>\n",
       "    </tr>\n",
       "    <tr>\n",
       "      <th>9658</th>\n",
       "      <td>1462218</td>\n",
       "      <td>894201</td>\n",
       "      <td>67960</td>\n",
       "      <td>IC50</td>\n",
       "      <td>=</td>\n",
       "      <td>60.000000</td>\n",
       "      <td>nM</td>\n",
       "      <td>283.71</td>\n",
       "      <td>CCCCC(=O)ON1C(=O)COc2ccc(Cl)cc12</td>\n",
       "      <td>0</td>\n",
       "    </tr>\n",
       "    <tr>\n",
       "      <th>9659</th>\n",
       "      <td>1462219</td>\n",
       "      <td>894198</td>\n",
       "      <td>67960</td>\n",
       "      <td>GI</td>\n",
       "      <td>None</td>\n",
       "      <td>NaN</td>\n",
       "      <td>None</td>\n",
       "      <td>227.65</td>\n",
       "      <td>CCC1Oc2ccc(Cl)cc2N(O)C1=O</td>\n",
       "      <td>0</td>\n",
       "    </tr>\n",
       "    <tr>\n",
       "      <th>9660</th>\n",
       "      <td>1476556</td>\n",
       "      <td>907812</td>\n",
       "      <td>69641</td>\n",
       "      <td>IC50</td>\n",
       "      <td>=</td>\n",
       "      <td>2940.000000</td>\n",
       "      <td>nM</td>\n",
       "      <td>332.44</td>\n",
       "      <td>C\\C=C(\\C)/C(=O)O[C@@H]1c2c(C)coc2C[C@@]3(O)CCC...</td>\n",
       "      <td>1</td>\n",
       "    </tr>\n",
       "    <tr>\n",
       "      <th>9661</th>\n",
       "      <td>1462221</td>\n",
       "      <td>894199</td>\n",
       "      <td>67960</td>\n",
       "      <td>GI</td>\n",
       "      <td>None</td>\n",
       "      <td>NaN</td>\n",
       "      <td>None</td>\n",
       "      <td>275.69</td>\n",
       "      <td>ON1C(=O)C(Oc2ccc(Cl)cc12)c3ccccc3</td>\n",
       "      <td>0</td>\n",
       "    </tr>\n",
       "    <tr>\n",
       "      <th>9662</th>\n",
       "      <td>1462222</td>\n",
       "      <td>894200</td>\n",
       "      <td>67960</td>\n",
       "      <td>GI</td>\n",
       "      <td>None</td>\n",
       "      <td>NaN</td>\n",
       "      <td>None</td>\n",
       "      <td>255.66</td>\n",
       "      <td>CCC(=O)ON1C(=O)COc2c(Cl)cccc12</td>\n",
       "      <td>0</td>\n",
       "    </tr>\n",
       "    <tr>\n",
       "      <th>9663</th>\n",
       "      <td>503756</td>\n",
       "      <td>894044</td>\n",
       "      <td>68008</td>\n",
       "      <td>LC50</td>\n",
       "      <td>=</td>\n",
       "      <td>565.833497</td>\n",
       "      <td>nM</td>\n",
       "      <td>406.48</td>\n",
       "      <td>CC(=CCc1cc(ccc1O)C2=COc3cc(O)c(CC=C(C)C)c(O)c3...</td>\n",
       "      <td>1</td>\n",
       "    </tr>\n",
       "    <tr>\n",
       "      <th>9664</th>\n",
       "      <td>1462225</td>\n",
       "      <td>894200</td>\n",
       "      <td>67960</td>\n",
       "      <td>GI</td>\n",
       "      <td>None</td>\n",
       "      <td>NaN</td>\n",
       "      <td>None</td>\n",
       "      <td>241.67</td>\n",
       "      <td>CCCC1Oc2c(Cl)cccc2N(O)C1=O</td>\n",
       "      <td>0</td>\n",
       "    </tr>\n",
       "    <tr>\n",
       "      <th>9665</th>\n",
       "      <td>849879</td>\n",
       "      <td>925134</td>\n",
       "      <td>70915</td>\n",
       "      <td>IC50</td>\n",
       "      <td>=</td>\n",
       "      <td>38.000000</td>\n",
       "      <td>nM</td>\n",
       "      <td>394.30</td>\n",
       "      <td>Fc1ccc(NC(=O)c2cccnc2Oc3cccc(c3)C(F)(F)F)c(F)c1</td>\n",
       "      <td>0</td>\n",
       "    </tr>\n",
       "    <tr>\n",
       "      <th>9666</th>\n",
       "      <td>26590</td>\n",
       "      <td>908063</td>\n",
       "      <td>69674</td>\n",
       "      <td>Inhibition</td>\n",
       "      <td>=</td>\n",
       "      <td>100.000000</td>\n",
       "      <td>%</td>\n",
       "      <td>201.25</td>\n",
       "      <td>c1ccc2[nH]c(nc2c1)c3cscn3</td>\n",
       "      <td>0</td>\n",
       "    </tr>\n",
       "    <tr>\n",
       "      <th>9667</th>\n",
       "      <td>1501161</td>\n",
       "      <td>931214</td>\n",
       "      <td>71434</td>\n",
       "      <td>EC50</td>\n",
       "      <td>=</td>\n",
       "      <td>31000.000000</td>\n",
       "      <td>nM</td>\n",
       "      <td>331.38</td>\n",
       "      <td>NC(=O)NC(c1c[nH]c2ccccc12)c3c(O)ccc4ccccc34</td>\n",
       "      <td>2</td>\n",
       "    </tr>\n",
       "    <tr>\n",
       "      <th>9668</th>\n",
       "      <td>1501162</td>\n",
       "      <td>931214</td>\n",
       "      <td>71434</td>\n",
       "      <td>EC50</td>\n",
       "      <td>=</td>\n",
       "      <td>22000.000000</td>\n",
       "      <td>nM</td>\n",
       "      <td>330.39</td>\n",
       "      <td>CC(=O)NC(c1c[nH]c2ccccc12)c3c(O)ccc4ccccc34</td>\n",
       "      <td>2</td>\n",
       "    </tr>\n",
       "    <tr>\n",
       "      <th>9669</th>\n",
       "      <td>1501163</td>\n",
       "      <td>931214</td>\n",
       "      <td>71434</td>\n",
       "      <td>EC50</td>\n",
       "      <td>=</td>\n",
       "      <td>19000.000000</td>\n",
       "      <td>nM</td>\n",
       "      <td>392.46</td>\n",
       "      <td>Oc1ccc2ccccc2c1C(NC(=O)c3ccccc3)c4c[nH]c5ccccc45</td>\n",
       "      <td>2</td>\n",
       "    </tr>\n",
       "    <tr>\n",
       "      <th>9670</th>\n",
       "      <td>1501164</td>\n",
       "      <td>931214</td>\n",
       "      <td>71434</td>\n",
       "      <td>EC50</td>\n",
       "      <td>=</td>\n",
       "      <td>14800.000000</td>\n",
       "      <td>nM</td>\n",
       "      <td>416.48</td>\n",
       "      <td>NC1=NC(c2cn(nc2c3ccccc3)c4ccccc4)c5c(O1)ccc6cc...</td>\n",
       "      <td>2</td>\n",
       "    </tr>\n",
       "    <tr>\n",
       "      <th>9671</th>\n",
       "      <td>1501165</td>\n",
       "      <td>931214</td>\n",
       "      <td>71434</td>\n",
       "      <td>EC50</td>\n",
       "      <td>=</td>\n",
       "      <td>61000.000000</td>\n",
       "      <td>nM</td>\n",
       "      <td>313.36</td>\n",
       "      <td>NC1=NC(c2c[nH]c3ccccc23)c4c(O1)ccc5ccccc45</td>\n",
       "      <td>2</td>\n",
       "    </tr>\n",
       "    <tr>\n",
       "      <th>9672</th>\n",
       "      <td>1501166</td>\n",
       "      <td>931214</td>\n",
       "      <td>71434</td>\n",
       "      <td>EC50</td>\n",
       "      <td>=</td>\n",
       "      <td>49000.000000</td>\n",
       "      <td>nM</td>\n",
       "      <td>374.44</td>\n",
       "      <td>O1C(=NC(c2c[nH]c3ccccc23)c4c1ccc5ccccc45)c6ccccc6</td>\n",
       "      <td>2</td>\n",
       "    </tr>\n",
       "    <tr>\n",
       "      <th>9673</th>\n",
       "      <td>980975</td>\n",
       "      <td>915540</td>\n",
       "      <td>70314</td>\n",
       "      <td>IC50</td>\n",
       "      <td>=</td>\n",
       "      <td>331.130000</td>\n",
       "      <td>nM</td>\n",
       "      <td>230.91</td>\n",
       "      <td>Clc1cccc(n1)C(Cl)(Cl)Cl</td>\n",
       "      <td>1</td>\n",
       "    </tr>\n",
       "    <tr>\n",
       "      <th>9674</th>\n",
       "      <td>1501167</td>\n",
       "      <td>931214</td>\n",
       "      <td>71434</td>\n",
       "      <td>EC50</td>\n",
       "      <td>=</td>\n",
       "      <td>45000.000000</td>\n",
       "      <td>nM</td>\n",
       "      <td>621.74</td>\n",
       "      <td>N1C(Oc2ccc3ccccc3c2C1c4cn(nc4c5ccccc5)c6ccccc6...</td>\n",
       "      <td>2</td>\n",
       "    </tr>\n",
       "    <tr>\n",
       "      <th>9675</th>\n",
       "      <td>1463363</td>\n",
       "      <td>894700</td>\n",
       "      <td>67918</td>\n",
       "      <td>Inhibition</td>\n",
       "      <td>=</td>\n",
       "      <td>20.000000</td>\n",
       "      <td>%</td>\n",
       "      <td>152.24</td>\n",
       "      <td>CC(C)[C@H]1CCC(=CC1=O)C</td>\n",
       "      <td>2</td>\n",
       "    </tr>\n",
       "    <tr>\n",
       "      <th>9676</th>\n",
       "      <td>1486836</td>\n",
       "      <td>917041</td>\n",
       "      <td>70407</td>\n",
       "      <td>Inhibition</td>\n",
       "      <td>=</td>\n",
       "      <td>92.000000</td>\n",
       "      <td>%</td>\n",
       "      <td>274.40</td>\n",
       "      <td>C\\C=C\\C=C\\C#C\\C=C/CCCCCCCCC(=O)O</td>\n",
       "      <td>0</td>\n",
       "    </tr>\n",
       "    <tr>\n",
       "      <th>9677</th>\n",
       "      <td>1501175</td>\n",
       "      <td>931224</td>\n",
       "      <td>71436</td>\n",
       "      <td>IC50</td>\n",
       "      <td>=</td>\n",
       "      <td>3970.000000</td>\n",
       "      <td>nM</td>\n",
       "      <td>303.82</td>\n",
       "      <td>C\\C(=N\\NC(=S)Nc1ccccc1)\\c2ccc(Cl)cc2</td>\n",
       "      <td>1</td>\n",
       "    </tr>\n",
       "    <tr>\n",
       "      <th>9678</th>\n",
       "      <td>1501176</td>\n",
       "      <td>931224</td>\n",
       "      <td>71436</td>\n",
       "      <td>IC50</td>\n",
       "      <td>=</td>\n",
       "      <td>5190.000000</td>\n",
       "      <td>nM</td>\n",
       "      <td>348.27</td>\n",
       "      <td>C\\C(=N\\NC(=S)Nc1ccccc1)\\c2ccc(Br)cc2</td>\n",
       "      <td>1</td>\n",
       "    </tr>\n",
       "    <tr>\n",
       "      <th>9679</th>\n",
       "      <td>1464314</td>\n",
       "      <td>891941</td>\n",
       "      <td>68070</td>\n",
       "      <td>Activity</td>\n",
       "      <td>None</td>\n",
       "      <td>NaN</td>\n",
       "      <td>None</td>\n",
       "      <td>422.36</td>\n",
       "      <td>Cc1cc(Cl)cc(C(=O)NNCc2ccccc2Cl)c1NC(=O)CC(C)(C)C</td>\n",
       "      <td>0</td>\n",
       "    </tr>\n",
       "  </tbody>\n",
       "</table>\n",
       "<p>9680 rows × 10 columns</p>\n",
       "</div>"
      ],
      "text/plain": [
       "      molregno  assay_id  doc_id        type relation          value  unit  \\\n",
       "0       114777    931224   71436        IC50        =   11060.000000    nM   \n",
       "1       335978    931027   71549        IC50        =    3038.881026    nM   \n",
       "2       934012    922677   70765        IC50        >   17424.712822    nM   \n",
       "3      1491083    922588   70740        IC50        >  100000.000000    nM   \n",
       "4      1491084    922588   70740        IC50        >  100000.000000    nM   \n",
       "5      1491085    922588   70740        IC50        >  100000.000000    nM   \n",
       "6      1491086    922588   70740        IC50        =    7900.000000    nM   \n",
       "7      1491088    922588   70740        IC50        >  100000.000000    nM   \n",
       "8      1491089    922588   70740        IC50        >  100000.000000    nM   \n",
       "9      1491091    922588   70740        IC50        =   67000.000000    nM   \n",
       "10     1491096    922588   70740        IC50        =   93900.000000    nM   \n",
       "11     1491099    922588   70740        IC50        =   82700.000000    nM   \n",
       "12     1491100    922588   70740        IC50        =   67300.000000    nM   \n",
       "13     1491101    922588   70740        IC50        =   69000.000000    nM   \n",
       "14     1491102    922588   70740        IC50        =   89700.000000    nM   \n",
       "15     1491103    922588   70740        IC50        >  100000.000000    nM   \n",
       "16     1491105    922588   70740        IC50        >  100000.000000    nM   \n",
       "17     1491107    922588   70740        IC50        =   67400.000000    nM   \n",
       "18     1491106    922588   70740        IC50        >  100000.000000    nM   \n",
       "19     1491109    922588   70740        IC50        =   95400.000000    nM   \n",
       "20     1491108    922588   70740        IC50        =   59800.000000    nM   \n",
       "21     1491111    922588   70740        IC50        =   81900.000000    nM   \n",
       "22     1491112    922588   70740        IC50        >  100000.000000    nM   \n",
       "23     1491110    922588   70740        IC50        =   10500.000000    nM   \n",
       "24      442562    913009   70104        IC50        =  134832.981430    nM   \n",
       "25     1491174    922159   70758        IC50        =   28978.974144    nM   \n",
       "26     1491175    922159   70758        IC50        =    5672.149745    nM   \n",
       "27         246    922274   70724        IC50        =   25051.669067    nM   \n",
       "28      147749    922941   70679        IC50        =   15200.000000    nM   \n",
       "29     1491259    922677   70765        IC50        >   26702.809864    nM   \n",
       "...        ...       ...     ...         ...      ...            ...   ...   \n",
       "9650     16303    894078   68054  Inhibition        =      90.000000     %   \n",
       "9651   1462195    894173   67959        EC50        =    7274.843591    nM   \n",
       "9652   1462212    894200   67960          GI     None            NaN  None   \n",
       "9653   1462213    894198   67960          GI     None            NaN  None   \n",
       "9654   1462214    894201   67960          GI     None            NaN  None   \n",
       "9655    391109    919923   70619        EC50        =   79000.000000    nM   \n",
       "9656      1991    912536   70077  Inhibition        =      80.000000     %   \n",
       "9657   1462217    894201   67960        IC50        =      60.000000    nM   \n",
       "9658   1462218    894201   67960        IC50        =      60.000000    nM   \n",
       "9659   1462219    894198   67960          GI     None            NaN  None   \n",
       "9660   1476556    907812   69641        IC50        =    2940.000000    nM   \n",
       "9661   1462221    894199   67960          GI     None            NaN  None   \n",
       "9662   1462222    894200   67960          GI     None            NaN  None   \n",
       "9663    503756    894044   68008        LC50        =     565.833497    nM   \n",
       "9664   1462225    894200   67960          GI     None            NaN  None   \n",
       "9665    849879    925134   70915        IC50        =      38.000000    nM   \n",
       "9666     26590    908063   69674  Inhibition        =     100.000000     %   \n",
       "9667   1501161    931214   71434        EC50        =   31000.000000    nM   \n",
       "9668   1501162    931214   71434        EC50        =   22000.000000    nM   \n",
       "9669   1501163    931214   71434        EC50        =   19000.000000    nM   \n",
       "9670   1501164    931214   71434        EC50        =   14800.000000    nM   \n",
       "9671   1501165    931214   71434        EC50        =   61000.000000    nM   \n",
       "9672   1501166    931214   71434        EC50        =   49000.000000    nM   \n",
       "9673    980975    915540   70314        IC50        =     331.130000    nM   \n",
       "9674   1501167    931214   71434        EC50        =   45000.000000    nM   \n",
       "9675   1463363    894700   67918  Inhibition        =      20.000000     %   \n",
       "9676   1486836    917041   70407  Inhibition        =      92.000000     %   \n",
       "9677   1501175    931224   71436        IC50        =    3970.000000    nM   \n",
       "9678   1501176    931224   71436        IC50        =    5190.000000    nM   \n",
       "9679   1464314    891941   68070    Activity     None            NaN  None   \n",
       "\n",
       "         mwt                                             smiles  agrochemical  \n",
       "0     227.72                     C\\C(=N\\N=C(/N)\\S)\\c1ccc(Cl)cc1             2  \n",
       "1     240.22             [O-][N+](=O)c1ccc2[nH]c(nc2c1)c3ccccn3             1  \n",
       "2     257.68                      Clc1ccc(cc1)c2oc(nn2)c3cccnc3             2  \n",
       "3     369.85       CC(C1NC(=O)NC(=C1C(=O)Nc2ccccc2Cl)C)c3ccccc3             2  \n",
       "4     324.41           CC1=C(C(NC(=S)N1)c2ccccc2)C(=O)Oc3ccccc3             2  \n",
       "5     268.36                     COC(=O)C1=C(C)NC(=S)NC1c2cccs2             2  \n",
       "6     296.42                   CCCOC(=O)C1=C(C)NC(=S)NC1c2cccs2             1  \n",
       "7     468.97  CC1=C(C(NC(=O)N1)c2cnc(CS)n2Nc3ccccc3)C(=O)Nc4...             2  \n",
       "8     468.97  CC1=C(C(NC(=O)N1)c2cnc(CS)n2Nc3ccccc3)C(=O)Nc4...             2  \n",
       "9     483.00  CC1=C(C(NC(=O)N1)c2cnc(CS)n2NCc3ccccc3)C(=O)Nc...             2  \n",
       "10    339.19               CCOC(=O)C1=C(C)NC(=O)NC1c2ccc(Br)cc2             2  \n",
       "11    341.23                COC(=O)C1=C(C)NC(=S)NC1c2ccc(Br)cc2             2  \n",
       "12    353.22            CCOC(=O)C1=C(C)N(C)C(=O)NC1c2ccc(Br)cc2             2  \n",
       "13    274.32                CCOC(=O)C1=C(C)N(C)C(=O)NC1c2ccccc2             2  \n",
       "14    308.34           CC1=C(C(NC(=O)N1)c2ccccc2)C(=O)Oc3ccccc3             2  \n",
       "15    392.31       CC1=C(C(NC(=S)N1)c2ccccc2Cl)C(=O)Nc3ccccc3Cl             2  \n",
       "16    325.34        CC1=C(C(NC(=O)N1)c2ccccc2)C(=O)Nc3ccc(F)cc3             2  \n",
       "17    376.24       CC1=C(C(NC(=O)N1)c2ccccc2Cl)C(=O)Nc3ccccc3Cl             2  \n",
       "18    313.40           CC1=C(C(NC(=O)N1)c2ccccc2)C(=O)NC3CCCCC3             2  \n",
       "19    420.69     CC1=C(C(NC(=O)N1)c2cccc(Br)c2)C(=O)Nc3ccccc3Cl             2  \n",
       "20    420.69       CC1=C(C(NC(=O)N1)c2ccccc2Br)C(=O)Nc3ccccc3Cl             2  \n",
       "21    386.80  CC1=C(C(NC(=O)N1)c2ccc(cc2)[N+](=O)[O-])C(=O)N...             2  \n",
       "22    371.82       COc1cccc(c1)C2NC(=O)NC(=C2C(=O)Nc3ccccc3Cl)C             2  \n",
       "23    355.83      CC1=C(C(NC(=O)N1)c2ccc(C)cc2)C(=O)Nc3ccccc3Cl             2  \n",
       "24    369.42           COc1ccc2CC(=O)c3cc4OCOc4cc3CCN(C)Cc2c1OC             2  \n",
       "25    310.57                 CC(C)CCCCCCCCC(C)CC(C)C\\C(=C\\CO)\\C             2  \n",
       "26    352.60           CC(C)CCCCCCCCC(C)CC(C)C\\C(=C\\COC(=O)C)\\C             1  \n",
       "27    319.34         CCN1C=C(C(=O)O)C(=O)c2cc(F)c(cc12)N3CCNCC3             2  \n",
       "28    326.26               CC(C)\\N=C(/S)\\N1CCC(=N1)c2cccc(Br)c2             2  \n",
       "29    494.33  [O-][N+](=O)c1ccc(cc1)c2nnc(c3cccnc3)n2Nc4nc5c...             2  \n",
       "...      ...                                                ...           ...  \n",
       "9650  352.77  COC1=CC(=O)C[C@@H](C)[C@]12Oc3c(Cl)c(OC)cc(OC)...             0  \n",
       "9651  343.65                Cc1nnsc1C2=NNC3SC(=NN23)C(Cl)(Cl)Cl             1  \n",
       "9652  239.20                      CCC(=O)ON1C(=O)COc2ccc(F)cc12             0  \n",
       "9653  267.26                    CCCCC(=O)ON1C(=O)COc2ccc(F)cc12             0  \n",
       "9654  211.19                           CCC1Oc2ccc(F)cc2N(O)C1=O             0  \n",
       "9655   73.12                                             CN=C=S             2  \n",
       "9656  166.20                           [Na+].CCCC(CCC)C(=O)[O-]             0  \n",
       "9657  241.67                         CCCON1C(=O)COc2ccc(Cl)cc12             0  \n",
       "9658  283.71                   CCCCC(=O)ON1C(=O)COc2ccc(Cl)cc12             0  \n",
       "9659  227.65                          CCC1Oc2ccc(Cl)cc2N(O)C1=O             0  \n",
       "9660  332.44  C\\C=C(\\C)/C(=O)O[C@@H]1c2c(C)coc2C[C@@]3(O)CCC...             1  \n",
       "9661  275.69                  ON1C(=O)C(Oc2ccc(Cl)cc12)c3ccccc3             0  \n",
       "9662  255.66                     CCC(=O)ON1C(=O)COc2c(Cl)cccc12             0  \n",
       "9663  406.48  CC(=CCc1cc(ccc1O)C2=COc3cc(O)c(CC=C(C)C)c(O)c3...             1  \n",
       "9664  241.67                         CCCC1Oc2c(Cl)cccc2N(O)C1=O             0  \n",
       "9665  394.30    Fc1ccc(NC(=O)c2cccnc2Oc3cccc(c3)C(F)(F)F)c(F)c1             0  \n",
       "9666  201.25                          c1ccc2[nH]c(nc2c1)c3cscn3             0  \n",
       "9667  331.38        NC(=O)NC(c1c[nH]c2ccccc12)c3c(O)ccc4ccccc34             2  \n",
       "9668  330.39        CC(=O)NC(c1c[nH]c2ccccc12)c3c(O)ccc4ccccc34             2  \n",
       "9669  392.46   Oc1ccc2ccccc2c1C(NC(=O)c3ccccc3)c4c[nH]c5ccccc45             2  \n",
       "9670  416.48  NC1=NC(c2cn(nc2c3ccccc3)c4ccccc4)c5c(O1)ccc6cc...             2  \n",
       "9671  313.36         NC1=NC(c2c[nH]c3ccccc23)c4c(O1)ccc5ccccc45             2  \n",
       "9672  374.44  O1C(=NC(c2c[nH]c3ccccc23)c4c1ccc5ccccc45)c6ccccc6             2  \n",
       "9673  230.91                            Clc1cccc(n1)C(Cl)(Cl)Cl             1  \n",
       "9674  621.74  N1C(Oc2ccc3ccccc3c2C1c4cn(nc4c5ccccc5)c6ccccc6...             2  \n",
       "9675  152.24                            CC(C)[C@H]1CCC(=CC1=O)C             2  \n",
       "9676  274.40                   C\\C=C\\C=C\\C#C\\C=C/CCCCCCCCC(=O)O             0  \n",
       "9677  303.82               C\\C(=N\\NC(=S)Nc1ccccc1)\\c2ccc(Cl)cc2             1  \n",
       "9678  348.27               C\\C(=N\\NC(=S)Nc1ccccc1)\\c2ccc(Br)cc2             1  \n",
       "9679  422.36   Cc1cc(Cl)cc(C(=O)NNCc2ccccc2Cl)c1NC(=O)CC(C)(C)C             0  \n",
       "\n",
       "[9680 rows x 10 columns]"
      ]
     },
     "execution_count": 42,
     "metadata": {},
     "output_type": "execute_result"
    }
   ],
   "source": [
    "data = pd.DataFrame(activity, columns=['molregno', 'assay_id', 'doc_id', 'type', 'relation', 'value', 'unit', 'mwt', 'smiles', 'agrochemical'])\n",
    "data"
   ]
  },
  {
   "cell_type": "markdown",
   "metadata": {},
   "source": [
    "Count number of active, intermediate and inactive compounds (active = 0, intermediate = 1, inactive = 2)"
   ]
  },
  {
   "cell_type": "code",
   "execution_count": 43,
   "metadata": {},
   "outputs": [
    {
     "data": {
      "text/plain": [
       "2    6031\n",
       "0    2039\n",
       "1    1610\n",
       "Name: agrochemical, dtype: int64"
      ]
     },
     "execution_count": 43,
     "metadata": {},
     "output_type": "execute_result"
    }
   ],
   "source": [
    "data['agrochemical'].value_counts()"
   ]
  },
  {
   "cell_type": "markdown",
   "metadata": {},
   "source": [
    "Add a column containing RDKit Molecule clss"
   ]
  },
  {
   "cell_type": "code",
   "execution_count": 44,
   "metadata": {},
   "outputs": [
    {
     "name": "stdout",
     "output_type": "stream",
     "text": [
      "CPU times: user 3.45 s, sys: 134 ms, total: 3.59 s\n",
      "Wall time: 3.61 s\n"
     ]
    }
   ],
   "source": [
    "%%time\n",
    "data['mol'] = data['smiles'].apply(chem.MolFromSmiles)"
   ]
  },
  {
   "cell_type": "code",
   "execution_count": 45,
   "metadata": {},
   "outputs": [],
   "source": [
    "data = data.drop(['molregno', 'assay_id', 'doc_id', 'type', 'relation', 'value', 'unit'], axis=1)"
   ]
  },
  {
   "cell_type": "markdown",
   "metadata": {},
   "source": [
    "Save data to pickle file"
   ]
  },
  {
   "cell_type": "code",
   "execution_count": 46,
   "metadata": {},
   "outputs": [],
   "source": [
    "data.to_pickle(\"./data.pkl\")"
   ]
  }
 ],
 "metadata": {
  "kernelspec": {
   "display_name": "Python 3",
   "language": "python",
   "name": "python3"
  },
  "language_info": {
   "codemirror_mode": {
    "name": "ipython",
    "version": 3
   },
   "file_extension": ".py",
   "mimetype": "text/x-python",
   "name": "python",
   "nbconvert_exporter": "python",
   "pygments_lexer": "ipython3",
   "version": "3.6.8"
  }
 },
 "nbformat": 4,
 "nbformat_minor": 2
}
