{
 "cells": [
  {
   "cell_type": "code",
   "execution_count": 11,
   "metadata": {},
   "outputs": [],
   "source": [
    "import pandas as pd\n",
    "import numpy as np\n",
    "import deepchem as dc\n",
    "from deepchem.splits.splitters import generate_scaffold"
   ]
  },
  {
   "cell_type": "code",
   "execution_count": 2,
   "metadata": {},
   "outputs": [],
   "source": [
    "data = pd.read_pickle(\"./ft_data.pkl\")"
   ]
  },
  {
   "cell_type": "code",
   "execution_count": 3,
   "metadata": {},
   "outputs": [],
   "source": [
    "scaffolds = [generate_scaffold(i) for i in data['smiles']]"
   ]
  },
  {
   "cell_type": "code",
   "execution_count": 4,
   "metadata": {},
   "outputs": [],
   "source": [
    "scaffolds_dict = {}\n",
    "for ind, scaffold in enumerate(scaffolds):\n",
    "    if scaffold not in scaffolds_dict:\n",
    "        scaffolds_dict[scaffold] = [ind]\n",
    "    else:\n",
    "        scaffolds_dict[scaffold].append(ind)"
   ]
  },
  {
   "cell_type": "code",
   "execution_count": 5,
   "metadata": {},
   "outputs": [],
   "source": [
    "scaffolds_dict = {key: sorted(value) for key, value in scaffolds_dict.items()}\n",
    "scaffold_sets = [scaffold_set for (scaffold, scaffold_set) in sorted(\n",
    "                scaffolds_dict.items(), key=lambda x: (len(x[1]), x[1][0]), reverse=True)\n",
    "                ]"
   ]
  },
  {
   "cell_type": "code",
   "execution_count": 6,
   "metadata": {},
   "outputs": [],
   "source": [
    "frac_train, frac_valid, frac_test = 0.6, 0.2, 0.2\n",
    "train_cutoff = frac_train * len(data)\n",
    "valid_cutoff = (frac_train + frac_valid) * len(data)\n",
    "train_inds, valid_inds, test_inds = [], [], []"
   ]
  },
  {
   "cell_type": "code",
   "execution_count": 7,
   "metadata": {},
   "outputs": [],
   "source": [
    "for scaffold_set in scaffold_sets:\n",
    "    if len(train_inds) + len(scaffold_set) > train_cutoff:\n",
    "        if len(train_inds) + len(valid_inds) + len(scaffold_set) > valid_cutoff:\n",
    "            test_inds += scaffold_set\n",
    "        else:\n",
    "            valid_inds += scaffold_set\n",
    "    else:\n",
    "        train_inds += scaffold_set"
   ]
  },
  {
   "cell_type": "code",
   "execution_count": 8,
   "metadata": {},
   "outputs": [
    {
     "data": {
      "text/plain": [
       "(5808, 1936, 1936)"
      ]
     },
     "execution_count": 8,
     "metadata": {},
     "output_type": "execute_result"
    }
   ],
   "source": [
    "len(train_inds), len(valid_inds), len(test_inds)"
   ]
  },
  {
   "cell_type": "code",
   "execution_count": 9,
   "metadata": {},
   "outputs": [],
   "source": [
    "train_data = data.loc[train_inds + valid_inds]\n",
    "test_data = data.loc[test_inds]"
   ]
  },
  {
   "cell_type": "code",
   "execution_count": 10,
   "metadata": {},
   "outputs": [],
   "source": [
    "train_data.to_pickle(\"./ft_data_train.pkl\")\n",
    "test_data.to_pickle(\"./ft_data_test.pkl\")"
   ]
  },
  {
   "cell_type": "code",
   "execution_count": null,
   "metadata": {},
   "outputs": [],
   "source": []
  }
 ],
 "metadata": {
  "kernelspec": {
   "display_name": "Python 3",
   "language": "python",
   "name": "python3"
  },
  "language_info": {
   "codemirror_mode": {
    "name": "ipython",
    "version": 3
   },
   "file_extension": ".py",
   "mimetype": "text/x-python",
   "name": "python",
   "nbconvert_exporter": "python",
   "pygments_lexer": "ipython3",
   "version": "3.6.8"
  }
 },
 "nbformat": 4,
 "nbformat_minor": 2
}
